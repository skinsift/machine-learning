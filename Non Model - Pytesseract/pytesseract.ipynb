{
 "cells": [
  {
   "cell_type": "code",
   "execution_count": 1,
   "metadata": {},
   "outputs": [
    {
     "name": "stdout",
     "output_type": "stream",
     "text": [
      "Collecting pytesseract\n",
      "  Downloading pytesseract-0.3.13-py3-none-any.whl (14 kB)\n",
      "Requirement already satisfied: packaging>=21.3 in c:\\users\\putri\\appdata\\local\\programs\\python\\python311\\lib\\site-packages (from pytesseract) (24.2)\n",
      "Requirement already satisfied: Pillow>=8.0.0 in c:\\users\\putri\\appdata\\local\\programs\\python\\python311\\lib\\site-packages (from pytesseract) (11.0.0)\n",
      "Installing collected packages: pytesseract\n",
      "Successfully installed pytesseract-0.3.13\n"
     ]
    },
    {
     "name": "stderr",
     "output_type": "stream",
     "text": [
      "\n",
      "[notice] A new release of pip is available: 23.1.2 -> 24.3.1\n",
      "[notice] To update, run: python.exe -m pip install --upgrade pip\n"
     ]
    }
   ],
   "source": [
    "!pip install pytesseract"
   ]
  },
  {
   "cell_type": "code",
   "execution_count": 6,
   "metadata": {},
   "outputs": [],
   "source": [
    "import pytesseract\n",
    "from PIL import Image\n",
    "import pandas as pd\n",
    "import string\n",
    "import re"
   ]
  },
  {
   "cell_type": "code",
   "execution_count": 16,
   "metadata": {},
   "outputs": [
    {
     "name": "stdout",
     "output_type": "stream",
     "text": [
      "Aqua, Stearic Acid, Niacinamide, Cyclopentasiloxane, Ethylhexy! Methoxycinnamate, Glycerin, Cyclohexasiloxane, Dimethicone, Propanediol, Butylene Glycol, Cetyl Alcohol, Palmitic Acid, Heptyl Glucoside, Phenoxyethanol, Octocrylene, Butyl Methoxydibenzoylmethane, Titanium Dioxide, Polyacrylate-13, Chlorphenesin, Arachidic Acid, Polyisobutene, Potassium Hydroxide, Allantoin, Tocopheryl Acetate, Polysorbate 20, Fragrance, Triethoxycaprylyisi- lane, Arbutin, Citric Acid, Sodium Sulfite, Aluminum Hydroxide, Actinidia Polygama Fruit Extract, Heptanol, Acetyl Tyrosine, Saxifraga Sarmentosa Extract, BHT, Paeonia Suffruticosa Root Extract, Aminopropyl Ascorby| Phosphate, Scutellaria Baicalensis Root Extract, Glutathione, Saccharomyces Lysate, Disodium Succinate, Ethylhexylglycerin, Glutamic Acid, Glycine, Threonine Valine\n"
     ]
    }
   ],
   "source": [
    "img_path = 'tanpa_keyword.jpg'\n",
    "img = Image.open(img_path)\n",
    "\n",
    "# Extract text using pytesseract ocr\n",
    "ocr_text = pytesseract.image_to_string(img)\n",
    "\n",
    "# Process text into a list of words\n",
    "output = []\n",
    "for line in ocr_text.splitlines():\n",
    "    text_line = line.strip()\n",
    "    if text_line:\n",
    "        output.extend(text_line.split())\n",
    "\n",
    "# Combine the results into a string\n",
    "print(\" \".join(output))"
   ]
  },
  {
   "cell_type": "code",
   "execution_count": 17,
   "metadata": {},
   "outputs": [
    {
     "name": "stdout",
     "output_type": "stream",
     "text": [
      "['aqua', 'stearic acid', 'niacinamide', 'cyclopentasiloxane', 'ethylhexyl methoxycinnamate', 'glycerin', 'cyclohexasiloxane', 'dimethicone', 'propanediol', 'butylene glycol', 'cetyl alcohol', 'palmitic acid', 'heptyl glucoside', 'phenoxyethanol', 'octocrylene', 'butyl methoxydibenzoylmethane', 'titanium dioxide', 'polyacrylate-3', 'chlorphenesin', 'arachidic acid', 'polyisobutene', 'potassium hydroxide', 'allantoin', 'tocopheryl acetate', 'polysorbate 20', 'fragrance', 'arbutin', 'citric acid', 'sodium sulfite', 'aluminum hydroxide', 'actinidia polygama fruit extract', 'heptanol', 'acetyl tyrosine', 'saxifraga sarmentosa extract', 'bht', 'aminopropyl ascorbyl phosphate', 'scutellaria baicalensis root extract', 'glutathione', 'saccharomyces lysate', 'ethylhexylglycerin', 'glutamic acid', 'glycine']\n"
     ]
    }
   ],
   "source": [
    "# Levenshtein distance function\n",
    "def levenshtein_distance(s1, s2):\n",
    "    if len(s1) < len(s2):\n",
    "        return levenshtein_distance(s2, s1)\n",
    "\n",
    "    if len(s2) == 0:\n",
    "        return len(s1)\n",
    "\n",
    "    previous_row = list(range(len(s2) + 1))\n",
    "    for i, c1 in enumerate(s1):\n",
    "        current_row = [i + 1]\n",
    "        for j, c2 in enumerate(s2):\n",
    "            insertions = previous_row[j + 1] + 1\n",
    "            deletions = current_row[j] + 1\n",
    "            substitutions = previous_row[j] + (c1 != c2)\n",
    "            current_row.append(min(insertions, deletions, substitutions))\n",
    "        previous_row = current_row\n",
    "\n",
    "    return previous_row[-1]\n",
    "\n",
    "# Closest match function for ingredients\n",
    "def find_closest_match(part_cleaned, ingredients, threshold):\n",
    "    closest_match = None\n",
    "    closest_distance = float(\"inf\")\n",
    "\n",
    "    for candidate in ingredients:\n",
    "        if abs(len(part_cleaned) - len(candidate)) <= threshold:  # To make it faster, compare with similar length\n",
    "            distance = levenshtein_distance(part_cleaned, candidate)\n",
    "            if distance < closest_distance:\n",
    "                closest_distance = distance\n",
    "                closest_match = candidate\n",
    "\n",
    "    return closest_match, closest_distance\n",
    "\n",
    "# Text preprocessing function\n",
    "def preprocess_text(text):\n",
    "    text = text.translate(str.maketrans('', '', string.punctuation + '-'))  # Remove punctuation\n",
    "    text = \" \".join(text.split())  # Remove extra spaces\n",
    "    return text\n",
    "\n",
    "# String matching function with OCR results\n",
    "def process_ocr_text(ocr_text, ingredients, threshold=1):\n",
    "    detected_ingredients = []\n",
    "    ingredients_set = set(ingredients)\n",
    "\n",
    "    # Keywords\n",
    "    keywords = ['komposisi', 'ingredients', 'ingredient']\n",
    "    match = None\n",
    "    keyword_found = False\n",
    "\n",
    "    for keyword in keywords:\n",
    "        match = re.search(r'\\b' + re.escape(keyword) + r'\\b', ocr_text.lower())\n",
    "        if match:\n",
    "            keyword_found = True\n",
    "            break\n",
    "\n",
    "    # Split text\n",
    "    ocr_parts = ocr_text.split(\",\") if not keyword_found else ocr_text[match.end():].split(\",\")\n",
    "\n",
    "    for part in ocr_parts:\n",
    "        part_cleaned = preprocess_text(part.strip().lower())\n",
    "        if \"/\" in part_cleaned:\n",
    "            part_cleaned = part_cleaned.split(\"/\")[0].strip()\n",
    "\n",
    "        if part_cleaned in ingredients_set:\n",
    "            detected_ingredients.append(part_cleaned)\n",
    "        else:\n",
    "            closest_match, closest_distance = find_closest_match(part_cleaned, ingredients, threshold)\n",
    "            if closest_distance <= threshold:\n",
    "                detected_ingredients.append(closest_match)\n",
    "\n",
    "    return detected_ingredients\n",
    "\n",
    "# Load the ingredients dataset\n",
    "ingredients_path = \"./ingredients.csv\"\n",
    "df = pd.read_csv(ingredients_path)\n",
    "\n",
    "# List ingredients from the name column\n",
    "ingredients = df['nama'].dropna().str.lower().tolist()\n",
    "\n",
    "# Output from previous OCR\n",
    "ocr_text = \" \".join(output)\n",
    "\n",
    "# Process matching by calling the matching function\n",
    "result = process_ocr_text(ocr_text, ingredients)\n",
    "print(result)"
   ]
  }
 ],
 "metadata": {
  "kernelspec": {
   "display_name": "Python 3",
   "language": "python",
   "name": "python3"
  },
  "language_info": {
   "codemirror_mode": {
    "name": "ipython",
    "version": 3
   },
   "file_extension": ".py",
   "mimetype": "text/x-python",
   "name": "python",
   "nbconvert_exporter": "python",
   "pygments_lexer": "ipython3",
   "version": "3.11.4"
  }
 },
 "nbformat": 4,
 "nbformat_minor": 2
}
