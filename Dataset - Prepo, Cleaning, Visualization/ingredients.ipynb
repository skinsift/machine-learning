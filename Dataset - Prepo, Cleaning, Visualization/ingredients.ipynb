{
 "cells": [
  {
   "cell_type": "markdown",
   "metadata": {},
   "source": [
    "# [1] Library"
   ]
  },
  {
   "cell_type": "code",
   "execution_count": 2,
   "metadata": {},
   "outputs": [],
   "source": [
    "import pandas as pd"
   ]
  },
  {
   "cell_type": "markdown",
   "metadata": {},
   "source": [
    "# [2] Data Wrangling"
   ]
  },
  {
   "cell_type": "markdown",
   "metadata": {},
   "source": [
    "## [2.1] Gathering Data"
   ]
  },
  {
   "cell_type": "code",
   "execution_count": 4,
   "metadata": {},
   "outputs": [
    {
     "data": {
      "text/html": [
       "<div>\n",
       "<style scoped>\n",
       "    .dataframe tbody tr th:only-of-type {\n",
       "        vertical-align: middle;\n",
       "    }\n",
       "\n",
       "    .dataframe tbody tr th {\n",
       "        vertical-align: top;\n",
       "    }\n",
       "\n",
       "    .dataframe thead th {\n",
       "        text-align: right;\n",
       "    }\n",
       "</style>\n",
       "<table border=\"1\" class=\"dataframe\">\n",
       "  <thead>\n",
       "    <tr style=\"text-align: right;\">\n",
       "      <th></th>\n",
       "      <th>nama</th>\n",
       "      <th>rating</th>\n",
       "      <th>benefit</th>\n",
       "      <th>kategori</th>\n",
       "      <th>key_points</th>\n",
       "      <th>deskripsi</th>\n",
       "      <th>deskripsi_idn</th>\n",
       "      <th>benefit_idn</th>\n",
       "      <th>kategori_idn</th>\n",
       "      <th>key_points_idn</th>\n",
       "    </tr>\n",
       "  </thead>\n",
       "  <tbody>\n",
       "    <tr>\n",
       "      <th>0</th>\n",
       "      <td>3-O Ethyl Ascorbic Acid</td>\n",
       "      <td>Best</td>\n",
       "      <td>Anti-Aging, Evens Skin Tone, Dark Spot Fading</td>\n",
       "      <td>Anti-Aging, Evens Skin Tone, Dark Spot Fading,...</td>\n",
       "      <td>A more stable derivative of pure vitamin C | C...</td>\n",
       "      <td>3-O ethyl ascorbic acid is a stable, water- an...</td>\n",
       "      <td>Asam askorbat etil 3-O adalah turunan vitamin ...</td>\n",
       "      <td>Anti Penuaan, Meratakan Warna Kulit, Memudarka...</td>\n",
       "      <td>Anti Penuaan, Meratakan Warna Kulit, Memudarka...</td>\n",
       "      <td>Turunan vitamin C murni yang lebih stabil | Ma...</td>\n",
       "    </tr>\n",
       "    <tr>\n",
       "      <th>1</th>\n",
       "      <td>Acai</td>\n",
       "      <td>Best</td>\n",
       "      <td>Anti-Aging, Soothing</td>\n",
       "      <td>Anti-Aging, Soothing, Antioxidant, Plant Extracts</td>\n",
       "      <td>Potent source of skin-beneficial antioxidants ...</td>\n",
       "      <td>Acai (pronounced “ah-sigh-ee”) is a small berr...</td>\n",
       "      <td>Acai (diucapkan “ah-sigh-ee”) adalah buah beri...</td>\n",
       "      <td>Anti Penuaan, Menenangkan</td>\n",
       "      <td>Anti Penuaan, Menenangkan, Antioksidan, Ekstra...</td>\n",
       "      <td>Sumber antioksidan yang ampuh untuk kulit | Me...</td>\n",
       "    </tr>\n",
       "    <tr>\n",
       "      <th>2</th>\n",
       "      <td>Acerola Fruit Extract</td>\n",
       "      <td>Best</td>\n",
       "      <td>Anti-Aging</td>\n",
       "      <td>Anti-Aging, Antioxidant, Plant Extracts</td>\n",
       "      <td>A fruit extract also known as Malpighia emargi...</td>\n",
       "      <td>Acerola fruit extract (also known as _Malpighi...</td>\n",
       "      <td>Ekstrak buah Acerola (juga dikenal sebagai _Ma...</td>\n",
       "      <td>Anti Penuaan</td>\n",
       "      <td>Anti Penuaan, Antioksidan, Ekstrak Tumbuhan</td>\n",
       "      <td>Ekstrak buah yang juga dikenal sebagai Malpigh...</td>\n",
       "    </tr>\n",
       "    <tr>\n",
       "      <th>3</th>\n",
       "      <td>Acetyl Carnitine HCL</td>\n",
       "      <td>Best</td>\n",
       "      <td>Hydration</td>\n",
       "      <td>Hydration, Antioxidant</td>\n",
       "      <td>NaN</td>\n",
       "      <td>NaN</td>\n",
       "      <td>NaN</td>\n",
       "      <td>Hidrasi</td>\n",
       "      <td>Hidrasi, Antioksidan</td>\n",
       "      <td>NaN</td>\n",
       "    </tr>\n",
       "    <tr>\n",
       "      <th>4</th>\n",
       "      <td>Acetyl Dipeptide-1 Cetyl Ester</td>\n",
       "      <td>Best</td>\n",
       "      <td>Anti-Aging</td>\n",
       "      <td>Anti-Aging, Peptides</td>\n",
       "      <td>Lab-made anti-aging peptide that promotes firm...</td>\n",
       "      <td>Acetyl dipeptide-1 cetyl ester is a lab-engine...</td>\n",
       "      <td>Asetil dipeptida-1 cetil ester adalah peptida ...</td>\n",
       "      <td>Anti Penuaan</td>\n",
       "      <td>Anti Penuaan, Peptida</td>\n",
       "      <td>Peptida anti-penuaan buatan laboratorium yang ...</td>\n",
       "    </tr>\n",
       "  </tbody>\n",
       "</table>\n",
       "</div>"
      ],
      "text/plain": [
       "                             nama rating  \\\n",
       "0         3-O Ethyl Ascorbic Acid   Best   \n",
       "1                            Acai   Best   \n",
       "2           Acerola Fruit Extract   Best   \n",
       "3            Acetyl Carnitine HCL   Best   \n",
       "4  Acetyl Dipeptide-1 Cetyl Ester   Best   \n",
       "\n",
       "                                         benefit  \\\n",
       "0  Anti-Aging, Evens Skin Tone, Dark Spot Fading   \n",
       "1                           Anti-Aging, Soothing   \n",
       "2                                     Anti-Aging   \n",
       "3                                      Hydration   \n",
       "4                                     Anti-Aging   \n",
       "\n",
       "                                            kategori  \\\n",
       "0  Anti-Aging, Evens Skin Tone, Dark Spot Fading,...   \n",
       "1  Anti-Aging, Soothing, Antioxidant, Plant Extracts   \n",
       "2            Anti-Aging, Antioxidant, Plant Extracts   \n",
       "3                             Hydration, Antioxidant   \n",
       "4                               Anti-Aging, Peptides   \n",
       "\n",
       "                                          key_points  \\\n",
       "0  A more stable derivative of pure vitamin C | C...   \n",
       "1  Potent source of skin-beneficial antioxidants ...   \n",
       "2  A fruit extract also known as Malpighia emargi...   \n",
       "3                                                NaN   \n",
       "4  Lab-made anti-aging peptide that promotes firm...   \n",
       "\n",
       "                                           deskripsi  \\\n",
       "0  3-O ethyl ascorbic acid is a stable, water- an...   \n",
       "1  Acai (pronounced “ah-sigh-ee”) is a small berr...   \n",
       "2  Acerola fruit extract (also known as _Malpighi...   \n",
       "3                                                NaN   \n",
       "4  Acetyl dipeptide-1 cetyl ester is a lab-engine...   \n",
       "\n",
       "                                       deskripsi_idn  \\\n",
       "0  Asam askorbat etil 3-O adalah turunan vitamin ...   \n",
       "1  Acai (diucapkan “ah-sigh-ee”) adalah buah beri...   \n",
       "2  Ekstrak buah Acerola (juga dikenal sebagai _Ma...   \n",
       "3                                                NaN   \n",
       "4  Asetil dipeptida-1 cetil ester adalah peptida ...   \n",
       "\n",
       "                                         benefit_idn  \\\n",
       "0  Anti Penuaan, Meratakan Warna Kulit, Memudarka...   \n",
       "1                          Anti Penuaan, Menenangkan   \n",
       "2                                       Anti Penuaan   \n",
       "3                                            Hidrasi   \n",
       "4                                       Anti Penuaan   \n",
       "\n",
       "                                        kategori_idn  \\\n",
       "0  Anti Penuaan, Meratakan Warna Kulit, Memudarka...   \n",
       "1  Anti Penuaan, Menenangkan, Antioksidan, Ekstra...   \n",
       "2        Anti Penuaan, Antioksidan, Ekstrak Tumbuhan   \n",
       "3                               Hidrasi, Antioksidan   \n",
       "4                              Anti Penuaan, Peptida   \n",
       "\n",
       "                                      key_points_idn  \n",
       "0  Turunan vitamin C murni yang lebih stabil | Ma...  \n",
       "1  Sumber antioksidan yang ampuh untuk kulit | Me...  \n",
       "2  Ekstrak buah yang juga dikenal sebagai Malpigh...  \n",
       "3                                                NaN  \n",
       "4  Peptida anti-penuaan buatan laboratorium yang ...  "
      ]
     },
     "execution_count": 4,
     "metadata": {},
     "output_type": "execute_result"
    }
   ],
   "source": [
    "df = pd.read_csv('./Clean Data/ingredients_idn.csv')\n",
    "df.head()"
   ]
  },
  {
   "cell_type": "markdown",
   "metadata": {},
   "source": [
    "Insight:\n",
    "1. Terdapat 10 kolom yaitu nama, rating, benefit, kategori, key_points, deskripsi, deskripsi_idn, benefit_ind, kategori_idn, dan key_points_idn\n",
    "2. Kolom rating, benefit, kategori, key_points, dan deskripsi merupakan bahasa inggris, tidak digunakan\n",
    "3. Kolom deskripsi_idn, benefit_idn, kategori_idn, dan key_points_idn merupakan bahasa indonesia, digunakan\n",
    "\n",
    "Note:\n",
    "1. Drop semua kolom berbahasa inggris"
   ]
  },
  {
   "cell_type": "markdown",
   "metadata": {},
   "source": [
    "## [2.2] Assessing Data"
   ]
  },
  {
   "cell_type": "code",
   "execution_count": 5,
   "metadata": {},
   "outputs": [
    {
     "name": "stdout",
     "output_type": "stream",
     "text": [
      "<class 'pandas.core.frame.DataFrame'>\n",
      "RangeIndex: 26043 entries, 0 to 26042\n",
      "Data columns (total 10 columns):\n",
      " #   Column          Non-Null Count  Dtype \n",
      "---  ------          --------------  ----- \n",
      " 0   nama            26043 non-null  object\n",
      " 1   rating          26043 non-null  object\n",
      " 2   benefit         1546 non-null   object\n",
      " 3   kategori        2389 non-null   object\n",
      " 4   key_points      1160 non-null   object\n",
      " 5   deskripsi       26014 non-null  object\n",
      " 6   deskripsi_idn   26014 non-null  object\n",
      " 7   benefit_idn     1546 non-null   object\n",
      " 8   kategori_idn    2389 non-null   object\n",
      " 9   key_points_idn  1160 non-null   object\n",
      "dtypes: object(10)\n",
      "memory usage: 2.0+ MB\n"
     ]
    }
   ],
   "source": [
    "df.info()"
   ]
  },
  {
   "cell_type": "markdown",
   "metadata": {},
   "source": [
    "Insight:\n",
    "1. Kolom benefit, kategori, key_points, benefit_idn, kategori_idn, key_points_idn adalah kolom dengan jumlah data tersedikit. Hal ini disebabkan oleh keterbatasan data dari sumber\n",
    "2. Terdapat 26043 ingredients dan semua telah memiliki nilai pada kolom rating walau tidak semuanya memiliki deskripsi\n",
    "\n",
    "Note:\n",
    "1. Kolom dengan jumlah data sedikit tidak perlu didrop atau dibuat nilai baru karena keterbatasan data dari sumber data"
   ]
  },
  {
   "cell_type": "code",
   "execution_count": 6,
   "metadata": {},
   "outputs": [
    {
     "data": {
      "text/plain": [
       "nama                  0\n",
       "rating                0\n",
       "benefit           24497\n",
       "kategori          23654\n",
       "key_points        24883\n",
       "deskripsi            29\n",
       "deskripsi_idn        29\n",
       "benefit_idn       24497\n",
       "kategori_idn      23654\n",
       "key_points_idn    24883\n",
       "dtype: int64"
      ]
     },
     "execution_count": 6,
     "metadata": {},
     "output_type": "execute_result"
    }
   ],
   "source": [
    "df.isna().sum()"
   ]
  },
  {
   "cell_type": "markdown",
   "metadata": {},
   "source": [
    "Insight:\n",
    "1. Jumlah null untuk benefit, kategori, key_points, benefit_idn, kategori_idn, dan key_points_idn sangat tinggi yaitu lebih dari 23 ribu\n",
    "2. Jumlah null untuk deskripsi sedikit yaitu hanya 29\n",
    "\n",
    "Note:\n",
    "1. Walaupun jumlah poin nomor 1 sangat banyak null, kolom tidak bisa didrop karena informasi di kolom tersebut sangat penting. Apabila mencari 23 ribu data lainnya, maka akan cukup sulit karena keterbatasan sumber informasi\n",
    "2. Begitu pula untuk poin nomor 2, karena keterbatasan sumber informasi, maka tidak bisa menambahkan atau mencari data manual"
   ]
  },
  {
   "cell_type": "code",
   "execution_count": 7,
   "metadata": {},
   "outputs": [
    {
     "data": {
      "text/plain": [
       "7"
      ]
     },
     "execution_count": 7,
     "metadata": {},
     "output_type": "execute_result"
    }
   ],
   "source": [
    "df.duplicated().sum()"
   ]
  },
  {
   "cell_type": "markdown",
   "metadata": {},
   "source": [
    "Insight:\n",
    "1. Terdapat 7 duplikat\n",
    "\n",
    "Note:\n",
    "1. Hapus semua duplikat"
   ]
  },
  {
   "cell_type": "code",
   "execution_count": 8,
   "metadata": {},
   "outputs": [
    {
     "data": {
      "text/html": [
       "<div>\n",
       "<style scoped>\n",
       "    .dataframe tbody tr th:only-of-type {\n",
       "        vertical-align: middle;\n",
       "    }\n",
       "\n",
       "    .dataframe tbody tr th {\n",
       "        vertical-align: top;\n",
       "    }\n",
       "\n",
       "    .dataframe thead th {\n",
       "        text-align: right;\n",
       "    }\n",
       "</style>\n",
       "<table border=\"1\" class=\"dataframe\">\n",
       "  <thead>\n",
       "    <tr style=\"text-align: right;\">\n",
       "      <th></th>\n",
       "      <th>nama</th>\n",
       "      <th>rating</th>\n",
       "      <th>benefit</th>\n",
       "      <th>kategori</th>\n",
       "      <th>key_points</th>\n",
       "      <th>deskripsi</th>\n",
       "      <th>deskripsi_idn</th>\n",
       "      <th>benefit_idn</th>\n",
       "      <th>kategori_idn</th>\n",
       "      <th>key_points_idn</th>\n",
       "    </tr>\n",
       "  </thead>\n",
       "  <tbody>\n",
       "    <tr>\n",
       "      <th>count</th>\n",
       "      <td>26043</td>\n",
       "      <td>26043</td>\n",
       "      <td>1546</td>\n",
       "      <td>2389</td>\n",
       "      <td>1160</td>\n",
       "      <td>26014</td>\n",
       "      <td>26014</td>\n",
       "      <td>1546</td>\n",
       "      <td>2389</td>\n",
       "      <td>1160</td>\n",
       "    </tr>\n",
       "    <tr>\n",
       "      <th>unique</th>\n",
       "      <td>26031</td>\n",
       "      <td>6</td>\n",
       "      <td>83</td>\n",
       "      <td>666</td>\n",
       "      <td>1147</td>\n",
       "      <td>4160</td>\n",
       "      <td>4149</td>\n",
       "      <td>83</td>\n",
       "      <td>666</td>\n",
       "      <td>1147</td>\n",
       "    </tr>\n",
       "    <tr>\n",
       "      <th>top</th>\n",
       "      <td>Borago Officinalis Seed Extract</td>\n",
       "      <td>Not Rated</td>\n",
       "      <td>Hydration</td>\n",
       "      <td>Hydration, Humectant</td>\n",
       "      <td>Rich in antioxidants that defend skin against ...</td>\n",
       "      <td>Functions: Skin Conditioning. We have not yet ...</td>\n",
       "      <td>Fungsi: Merawat Kulit. Kami belum menilai baha...</td>\n",
       "      <td>Hidrasi</td>\n",
       "      <td>Hidrasi, Humektan</td>\n",
       "      <td>Kaya akan antioksidan yang melindungi kulit da...</td>\n",
       "    </tr>\n",
       "    <tr>\n",
       "      <th>freq</th>\n",
       "      <td>3</td>\n",
       "      <td>23626</td>\n",
       "      <td>512</td>\n",
       "      <td>88</td>\n",
       "      <td>2</td>\n",
       "      <td>5624</td>\n",
       "      <td>5624</td>\n",
       "      <td>512</td>\n",
       "      <td>88</td>\n",
       "      <td>2</td>\n",
       "    </tr>\n",
       "  </tbody>\n",
       "</table>\n",
       "</div>"
      ],
      "text/plain": [
       "                                   nama     rating    benefit  \\\n",
       "count                             26043      26043       1546   \n",
       "unique                            26031          6         83   \n",
       "top     Borago Officinalis Seed Extract  Not Rated  Hydration   \n",
       "freq                                  3      23626        512   \n",
       "\n",
       "                    kategori  \\\n",
       "count                   2389   \n",
       "unique                   666   \n",
       "top     Hydration, Humectant   \n",
       "freq                      88   \n",
       "\n",
       "                                               key_points  \\\n",
       "count                                                1160   \n",
       "unique                                               1147   \n",
       "top     Rich in antioxidants that defend skin against ...   \n",
       "freq                                                    2   \n",
       "\n",
       "                                                deskripsi  \\\n",
       "count                                               26014   \n",
       "unique                                               4160   \n",
       "top     Functions: Skin Conditioning. We have not yet ...   \n",
       "freq                                                 5624   \n",
       "\n",
       "                                            deskripsi_idn benefit_idn  \\\n",
       "count                                               26014        1546   \n",
       "unique                                               4149          83   \n",
       "top     Fungsi: Merawat Kulit. Kami belum menilai baha...     Hidrasi   \n",
       "freq                                                 5624         512   \n",
       "\n",
       "             kategori_idn                                     key_points_idn  \n",
       "count                2389                                               1160  \n",
       "unique                666                                               1147  \n",
       "top     Hidrasi, Humektan  Kaya akan antioksidan yang melindungi kulit da...  \n",
       "freq                   88                                                  2  "
      ]
     },
     "execution_count": 8,
     "metadata": {},
     "output_type": "execute_result"
    }
   ],
   "source": [
    "df.describe()"
   ]
  },
  {
   "cell_type": "markdown",
   "metadata": {},
   "source": [
    "Insight:\n",
    "1. Terdapat 26043 nama, 26043 rating, 1546 benefit, 2389 kategori, 1160 key_points, dan 26014 deskripsi (begitu juga untuk kolom translate bahasa indonesia)\n",
    "2. Terdapat 26031 nama unique, 6 unique rating, 83 unique benefit, 666 unique kategori, 1147 unique key_points, dan 4160 unique deskripsi (begitu juga untuk kolom translate bahasa indonesia)\n",
    "\n",
    "\n",
    "Note:\n",
    "1. Semua nama haruslah unique, jika tidak berarti ada nama yang sama. Drop"
   ]
  },
  {
   "cell_type": "code",
   "execution_count": 9,
   "metadata": {},
   "outputs": [
    {
     "name": "stdout",
     "output_type": "stream",
     "text": [
      "0                           3-O Ethyl Ascorbic Acid\n",
      "1                                              Acai\n",
      "2                             Acerola Fruit Extract\n",
      "3                              Acetyl Carnitine HCL\n",
      "4                    Acetyl Dipeptide-1 Cetyl Ester\n",
      "                            ...                    \n",
      "26038                        Zostera Marina Extract\n",
      "26039       Zygophyllum Qatarense Leaf/Stem Extract\n",
      "26040    Zygosaccharomyces Microellipsoides Ferment\n",
      "26041                     Zymomonas Ferment Extract\n",
      "26042                    Zymomonas Ferment Filtrate\n",
      "Name: nama, Length: 26043, dtype: object\n"
     ]
    }
   ],
   "source": [
    "print(df['nama'])"
   ]
  },
  {
   "cell_type": "markdown",
   "metadata": {},
   "source": [
    "Insight:\n",
    "1. Dapat dilihat terdapat data yang menggunakan /. Untuk memudahkan pencocokan, maka akan dipisah menjadi 2 row baris berbeda"
   ]
  },
  {
   "cell_type": "code",
   "execution_count": 16,
   "metadata": {},
   "outputs": [
    {
     "name": "stdout",
     "output_type": "stream",
     "text": [
      "0        Anti Penuaan, Meratakan Warna Kulit, Memudarka...\n",
      "1                                Anti Penuaan, Menenangkan\n",
      "2                                             Anti Penuaan\n",
      "3                                                  Hidrasi\n",
      "4                                             Anti Penuaan\n",
      "                               ...                        \n",
      "26038                                                  NaN\n",
      "26039                                                  NaN\n",
      "26040                                                  NaN\n",
      "26041                                                  NaN\n",
      "26042                                                  NaN\n",
      "Name: benefit_idn, Length: 26043, dtype: object\n"
     ]
    }
   ],
   "source": [
    "print(df['benefit_idn'])"
   ]
  },
  {
   "cell_type": "code",
   "execution_count": 17,
   "metadata": {},
   "outputs": [
    {
     "name": "stdout",
     "output_type": "stream",
     "text": [
      "0        Anti Penuaan, Meratakan Warna Kulit, Memudarka...\n",
      "1        Anti Penuaan, Menenangkan, Antioksidan, Ekstra...\n",
      "2              Anti Penuaan, Antioksidan, Ekstrak Tumbuhan\n",
      "3                                     Hidrasi, Antioksidan\n",
      "4                                    Anti Penuaan, Peptida\n",
      "                               ...                        \n",
      "26038                                                  NaN\n",
      "26039                                                  NaN\n",
      "26040                                                  NaN\n",
      "26041                                                  NaN\n",
      "26042                                                  NaN\n",
      "Name: kategori_idn, Length: 26043, dtype: object\n"
     ]
    }
   ],
   "source": [
    "print(df['kategori_idn'])"
   ]
  },
  {
   "cell_type": "code",
   "execution_count": 18,
   "metadata": {},
   "outputs": [
    {
     "name": "stdout",
     "output_type": "stream",
     "text": [
      "0        Turunan vitamin C murni yang lebih stabil | Ma...\n",
      "1        Sumber antioksidan yang ampuh untuk kulit | Me...\n",
      "2        Ekstrak buah yang juga dikenal sebagai Malpigh...\n",
      "3                                                      NaN\n",
      "4        Peptida anti-penuaan buatan laboratorium yang ...\n",
      "                               ...                        \n",
      "26038                                                  NaN\n",
      "26039                                                  NaN\n",
      "26040                                                  NaN\n",
      "26041                                                  NaN\n",
      "26042                                                  NaN\n",
      "Name: key_points_idn, Length: 26043, dtype: object\n"
     ]
    }
   ],
   "source": [
    "print(df['key_points_idn'])"
   ]
  },
  {
   "cell_type": "code",
   "execution_count": 20,
   "metadata": {},
   "outputs": [
    {
     "name": "stdout",
     "output_type": "stream",
     "text": [
      "0        Asam askorbat etil 3-O adalah turunan vitamin ...\n",
      "1        Acai (diucapkan “ah-sigh-ee”) adalah buah beri...\n",
      "2        Ekstrak buah Acerola (juga dikenal sebagai _Ma...\n",
      "3                                                      NaN\n",
      "4        Asetil dipeptida-1 cetil ester adalah peptida ...\n",
      "                               ...                        \n",
      "26038    Fungsi: Merawat Kulit. Kami belum menilai baha...\n",
      "26039    Fungsi: Antioksidan. Kami belum menilai bahan ...\n",
      "26040    Fungsi: Humektan. Kami belum menilai bahan ini...\n",
      "26041    Fungsi: Humektan, Pengkondisi Kulit. Kami belu...\n",
      "26042    Fungsi: Humektan, Pengkondisi Kulit. Kami belu...\n",
      "Name: deskripsi_idn, Length: 26043, dtype: object\n"
     ]
    }
   ],
   "source": [
    "print(df['deskripsi_idn'])"
   ]
  },
  {
   "cell_type": "code",
   "execution_count": 14,
   "metadata": {},
   "outputs": [
    {
     "name": "stdout",
     "output_type": "stream",
     "text": [
      "['Best' 'Good' 'Average' 'Bad' 'Worst' 'Not Rated']\n"
     ]
    }
   ],
   "source": [
    "unique_rating = df['rating'].unique()\n",
    "print(unique_rating)"
   ]
  },
  {
   "cell_type": "markdown",
   "metadata": {},
   "source": [
    "Insight:\n",
    "1. Terdapat 6 rating berbeda yaitu Best, Good, Average, Bad, Worst, Not Rated\n",
    "\n",
    "Note:\n",
    "1. Ubah menjadi bahasa indonesia"
   ]
  },
  {
   "cell_type": "code",
   "execution_count": 21,
   "metadata": {},
   "outputs": [
    {
     "name": "stdout",
     "output_type": "stream",
     "text": [
      "['Anti Penuaan' ' Meratakan Warna Kulit' ' Memudarkan Flek Hitam'\n",
      " ' Antioksidan' ' Menenangkan' ' Ekstrak Tumbuhan' 'Hidrasi' ' Peptida'\n",
      " 'Melembabkan' ' Humektan' ' Hidrasi' 'Antioksidan' ' Agen Chelating'\n",
      " ' Anti Jerawat' ' Emollient' 'Ekstrak Tumbuhan yang Menenangkan'\n",
      " 'Menenangkan' ' Anti Penuaan' ' Melembabkan' ' Mengelupas'\n",
      " ' Penambah Tekstur' ' Emolien' ' Agen Khelasi'\n",
      " ' Prebiotik/Probiotik/Postbiotik' 'Meratakan Warna Kulit' ' Eksfoliator'\n",
      " 'Memudarkan Flek Hitam' ' Pengatur/Penstabil pH' ' Pewarna/Pigmen'\n",
      " ' Filter UV' 'Anti-jerawat' ' Memudarkan flek hitam'\n",
      " ' Menghaluskan kulit yang berjerawat' 'Penenang'\n",
      " ' menghaluskan kulit yang berbenjol-benjol' ' antibakteri'\n",
      " ' Mengurangi komedo' 'Pelembab' ' Pelembab' nan ' Pengontrol Minyak'\n",
      " ' Pengemulsi' ' Penguat Tekstur' ' Agen Pembersih'\n",
      " ' Agen Oklusif/Pengaburan' 'Yg melunakkan' ' Pelarut' ' Silikon'\n",
      " 'Emolien' 'Filter UV' 'Ekstrak Tumbuhan' 'Agen hidrasi' ' emolien'\n",
      " ' oklusif/pengaburan' ' Agen Pembentuk Lapisan' ' Emulsifier' ' Polimer'\n",
      " 'Humektan' ' Menghaluskan Kulit Bergelombang' ' Pelembap' ' Pengawet'\n",
      " ' Agen Penangguhan/Pendispersi' ' Anti-penuaan' ' Meratakan warna kulit'\n",
      " ' Retinoid' ' Penenang' 'Pewarna/Pigmen'\n",
      " 'Menghaluskan kulit yang tidak rata' ' meratakan warna kulit'\n",
      " ' melembabkan' ' mengeksfoliasi' ' pengatur/penstabil pH'\n",
      " 'Menghaluskan Kulit Bergelombang' ' Pengecil Pori-pori' 'Agen Pembersih'\n",
      " ' Mengontrol Minyak' ' Mengecilkan Pori-pori' ' Eksfoliasi'\n",
      " ' Mengecilkan pori-pori' 'Anti Jerawat' 'Polimer' ' anti-penuaan'\n",
      " ' eksfoliator' ' Memudarkan bintik hitam' 'Pengontrol Minyak'\n",
      " ' Agen Pensuspensi/Pendispersi' ' Penyaring UV' ' Agen Oklusif/Pengabur'\n",
      " ' Penyerap' 'Penguat Tekstur' 'Penambah Tekstur' ' Agen Pembentuk Film'\n",
      " 'Agen Pembentuk Film' 'Pengatur/Penstabil pH' 'Agen Oklusif/Pengaburan'\n",
      " ' Agen Pewarna/Pigmen' ' Mengurangi Komedo' 'Pengawet'\n",
      " 'Prebiotik/Probiotik/Postbiotik' 'Silikon' 'Penyerap' 'Pelarut'\n",
      " 'Pengemulsi' 'Agen Chelating' 'Agen Penyerap' ' Oklusif/Pengabur'\n",
      " 'Bahan pengawet' ' bahan pembersih' ' Iritan' ' Agen Pengkelat'\n",
      " 'Agen Penangguhan/Pendispersi' ' Antibakteri' ' Ekstrak tumbuhan'\n",
      " 'Peptida yang menenangkan' 'Agen emolien' ' agen pembentuk lapisan tipis'\n",
      " ' agen oklusif/pengaburan' ' Pengontrol minyak'\n",
      " ' Agen Oklusif/Pembuat Keburaman' ' Anti-Jerawat'\n",
      " ' Pewangi: Sintetis dan Alami' 'Pewangi: Sintetis dan Alami' ' Iritasi'\n",
      " 'Eksfoliator' 'Iritan' 'Aroma: Sintetis dan Alami' ' pelarut'\n",
      " ' penambah tekstur' 'Agen yang mengiritasi' ' menyerap'\n",
      " ' menyumbat/mengaburkan' 'Wewangian: Sintetis dan Alami' 'Mengiritasi'\n",
      " 'Pengecil Pori-pori' 'Agen Pensuspensi/Pendispersi' 'Agen Iritan'\n",
      " ' Oklusif/Pengaburan' 'Anti-Jerawat' ' zat iritan' ' iritan'\n",
      " 'Kontrol Minyak' ' Anti Iritasi']\n"
     ]
    }
   ],
   "source": [
    "unique_kategori = df['kategori_idn'].str.split(',').explode().unique()\n",
    "print(unique_kategori)"
   ]
  },
  {
   "cell_type": "code",
   "execution_count": 23,
   "metadata": {},
   "outputs": [
    {
     "name": "stdout",
     "output_type": "stream",
     "text": [
      "['Turunan vitamin C murni yang lebih stabil '\n",
      " ' Mampu membantu memudarkan bintik hitam '\n",
      " ' Memiliki sifat yang larut dalam air dan minyak ' ...\n",
      " ' Dikatakan memiliki sifat pengawet dan anti-jerawat '\n",
      " ' Laporan dan penelitian yang saling bertentangan seputar kemampuannya untuk membantu kulit yang rentan berjerawat '\n",
      " ' Dapat menyebabkan sensitivitas kulit jika dioleskan']\n"
     ]
    }
   ],
   "source": [
    "unique_key_points = df['key_points_idn'].str.split('|').explode().unique()\n",
    "print(unique_key_points)"
   ]
  },
  {
   "cell_type": "markdown",
   "metadata": {},
   "source": [
    "Kesimpulan:\n",
    "1. Drop semua kolom berbahasa inggris\n",
    "2. Drop semua duplikat\n",
    "3. Ubah rating menjadi bahasa indonesia dengan mapping agar lebih cepat\n",
    "4. Apabila ada penggunaan / pada nama, maka pisahkan menjadi baris sendiri untuk setiap namanya\n",
    "5. (PENGECEKAN MANUAL) Ditemukan beberapa karakter khusus, perbaiki"
   ]
  },
  {
   "cell_type": "markdown",
   "metadata": {},
   "source": [
    "# [2.3] Cleaning Data"
   ]
  },
  {
   "cell_type": "markdown",
   "metadata": {},
   "source": [
    "###  [2.3.1] Drop semua kolom berbahasa inggris"
   ]
  },
  {
   "cell_type": "code",
   "execution_count": 24,
   "metadata": {},
   "outputs": [],
   "source": [
    "delete = ['benefit', 'kategori' ,'key_points', 'deskripsi']\n",
    "df = df.drop(columns=delete)"
   ]
  },
  {
   "cell_type": "code",
   "execution_count": 25,
   "metadata": {},
   "outputs": [
    {
     "name": "stdout",
     "output_type": "stream",
     "text": [
      "<class 'pandas.core.frame.DataFrame'>\n",
      "RangeIndex: 26043 entries, 0 to 26042\n",
      "Data columns (total 6 columns):\n",
      " #   Column          Non-Null Count  Dtype \n",
      "---  ------          --------------  ----- \n",
      " 0   nama            26043 non-null  object\n",
      " 1   rating          26043 non-null  object\n",
      " 2   deskripsi_idn   26014 non-null  object\n",
      " 3   benefit_idn     1546 non-null   object\n",
      " 4   kategori_idn    2389 non-null   object\n",
      " 5   key_points_idn  1160 non-null   object\n",
      "dtypes: object(6)\n",
      "memory usage: 1.2+ MB\n"
     ]
    }
   ],
   "source": [
    "df.info()"
   ]
  },
  {
   "cell_type": "markdown",
   "metadata": {},
   "source": [
    "Insight:\n",
    "1. Kolom benefit, kategori, key_points, dan deskripsi telah berhasil terhapus"
   ]
  },
  {
   "cell_type": "markdown",
   "metadata": {},
   "source": [
    "### [2.3.2] Drop semua duplikat"
   ]
  },
  {
   "cell_type": "code",
   "execution_count": 26,
   "metadata": {},
   "outputs": [
    {
     "name": "stdout",
     "output_type": "stream",
     "text": [
      "['AHA' 'BHA (Beta Hydroxy Acid)' 'Borago Officinalis Seed Extract'\n",
      " 'Fucus Vesiculosus Extract' 'Persea Gratissima (Avocado) Oil'\n",
      " 'Rubus Idaeus (Raspberry) Fruit Extract'\n",
      " 'Rubus Occidentalis Fruit Extract' 'Skin-Replenishing Ingredients'\n",
      " 'Pterocarpus Santalinus' 'Advanced Glycation Endproduct (AGE)' 'Albumen']\n"
     ]
    }
   ],
   "source": [
    "nama_duplikat = df['nama'][df['nama'].duplicated()].unique()\n",
    "print(nama_duplikat)"
   ]
  },
  {
   "cell_type": "code",
   "execution_count": 27,
   "metadata": {},
   "outputs": [],
   "source": [
    "df = df.drop_duplicates(subset=['nama'], keep='first')"
   ]
  },
  {
   "cell_type": "code",
   "execution_count": 28,
   "metadata": {},
   "outputs": [
    {
     "name": "stdout",
     "output_type": "stream",
     "text": [
      "[]\n"
     ]
    }
   ],
   "source": [
    "nama_duplikat = df['nama'][df['nama'].duplicated()].unique()\n",
    "print(nama_duplikat)"
   ]
  },
  {
   "cell_type": "markdown",
   "metadata": {},
   "source": [
    "Insight:\n",
    "1. Semua duplikat berhasil terhapus"
   ]
  },
  {
   "cell_type": "markdown",
   "metadata": {},
   "source": [
    "### [2.3.3] Ubah rating menjadi bahasa indonesia dengan mapping"
   ]
  },
  {
   "cell_type": "code",
   "execution_count": null,
   "metadata": {},
   "outputs": [],
   "source": [
    "rating_mapping = {\n",
    "    'Best': 'Terbaik',\n",
    "    'Good': 'Baik',\n",
    "    'Average': 'Rata-Rata',\n",
    "    'Bad': 'Buruk',\n",
    "    'Worst': 'Terburuk',\n",
    "    'Not Rated': 'Belum Dinilai'}\n",
    "\n",
    "df['rating'] = df['rating'].replace(rating_mapping)"
   ]
  },
  {
   "cell_type": "code",
   "execution_count": 31,
   "metadata": {},
   "outputs": [
    {
     "name": "stdout",
     "output_type": "stream",
     "text": [
      "['Terbaik' 'Baik' 'Rata-Rata' 'Buruk' 'Terburuk' 'Belum Dinilai']\n"
     ]
    }
   ],
   "source": [
    "unique_rating = df['rating'].unique()\n",
    "print(unique_rating)"
   ]
  },
  {
   "cell_type": "markdown",
   "metadata": {},
   "source": [
    "Insight:\n",
    "1. Rating telah diubah menjadi bahasa indonesia"
   ]
  },
  {
   "cell_type": "markdown",
   "metadata": {},
   "source": [
    "### [2.3.4] Memecah nama / menjadi satu untuk setiap baris"
   ]
  },
  {
   "cell_type": "code",
   "execution_count": null,
   "metadata": {},
   "outputs": [
    {
     "name": "stdout",
     "output_type": "stream",
     "text": [
      "0                           3-O Ethyl Ascorbic Acid\n",
      "1                                              Acai\n",
      "2                             Acerola Fruit Extract\n",
      "3                              Acetyl Carnitine HCL\n",
      "4                    Acetyl Dipeptide-1 Cetyl Ester\n",
      "                            ...                    \n",
      "28139                    Zygophyllum Qatarense Leaf\n",
      "28140                                  Stem Extract\n",
      "28141    Zygosaccharomyces Microellipsoides Ferment\n",
      "28142                     Zymomonas Ferment Extract\n",
      "28143                    Zymomonas Ferment Filtrate\n",
      "Name: nama, Length: 28144, dtype: object\n"
     ]
    }
   ],
   "source": [
    "def split_and_duplicate(row):\n",
    "    if '/' in row['nama']:\n",
    "        names = row['nama'].split('/')\n",
    "        duplicated_rows = pd.DataFrame(\n",
    "            {col: [row[col]] * len(names) for col in row.index}\n",
    "        )\n",
    "        duplicated_rows['nama'] = names\n",
    "        return duplicated_rows\n",
    "    else:\n",
    "        return pd.DataFrame([row])\n",
    "\n",
    "df_split = pd.concat(split_and_duplicate(row) for _, row in df.iterrows()).reset_index(drop=True)\n",
    "\n",
    "print(df_split['nama'])"
   ]
  },
  {
   "cell_type": "code",
   "execution_count": 37,
   "metadata": {},
   "outputs": [
    {
     "name": "stdout",
     "output_type": "stream",
     "text": [
      "False\n"
     ]
    }
   ],
   "source": [
    "has_slash = df_split['nama'].str.contains('/').any()\n",
    "print(has_slash)"
   ]
  },
  {
   "cell_type": "markdown",
   "metadata": {},
   "source": [
    "Insight:\n",
    "1. Sudah tidak ada nama yang menggunakan / dibuktikan dengan has_slash yang false dan jumlah data pada kolom nama yang semula 26 ribu sekarang menjadi 28 ribu"
   ]
  },
  {
   "cell_type": "code",
   "execution_count": 38,
   "metadata": {},
   "outputs": [],
   "source": [
    "df_split.to_csv('./Clean Data/ingredients.csv', index=False)"
   ]
  }
 ],
 "metadata": {
  "kernelspec": {
   "display_name": "Python 3",
   "language": "python",
   "name": "python3"
  },
  "language_info": {
   "codemirror_mode": {
    "name": "ipython",
    "version": 3
   },
   "file_extension": ".py",
   "mimetype": "text/x-python",
   "name": "python",
   "nbconvert_exporter": "python",
   "pygments_lexer": "ipython3",
   "version": "3.11.4"
  }
 },
 "nbformat": 4,
 "nbformat_minor": 2
}
