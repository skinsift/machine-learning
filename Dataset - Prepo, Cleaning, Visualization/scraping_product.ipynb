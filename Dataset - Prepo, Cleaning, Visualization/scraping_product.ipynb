{
 "cells": [
  {
   "cell_type": "markdown",
   "metadata": {},
   "source": [
    "# [1] Import Library"
   ]
  },
  {
   "cell_type": "code",
   "execution_count": null,
   "metadata": {},
   "outputs": [],
   "source": [
    "import pandas as pd\n",
    "from selenium import webdriver\n",
    "from selenium.webdriver.common.by import By\n",
    "from selenium.webdriver.support.ui import WebDriverWait\n",
    "from selenium.webdriver.support import expected_conditions as EC\n",
    "from bs4 import BeautifulSoup\n"
   ]
  },
  {
   "cell_type": "markdown",
   "metadata": {},
   "source": [
    "# [2] Kode"
   ]
  },
  {
   "cell_type": "markdown",
   "metadata": {},
   "source": [
    "Note:\n",
    "1. Ubah url sesuai dengan pages yang ingin discraping"
   ]
  },
  {
   "cell_type": "code",
   "execution_count": null,
   "metadata": {},
   "outputs": [],
   "source": [
    "options = webdriver.ChromeOptions()\n",
    "options.add_argument(\"--headless\")\n",
    "driver = webdriver.Chrome(options=options)\n",
    "\n",
    "url = \"https://www.paulaschoice.com/ingredient-dictionary?csortb1=ingredientNotRated&csortd1=1&csortb2=ingredientRating&csortd2=2&csortb3=name&csortd3=1&start=18000&sz=2000\"\n",
    "driver.get(url)\n",
    "\n",
    "header = [\"name\", \"rating\", \"description\"]\n",
    "file_path = \"ingredients_page10.csv\"\n",
    "with open(file_path, \"w\", newline='', encoding=\"utf-8\") as f:\n",
    "    pd.DataFrame(columns=header).to_csv(f, index=False)\n",
    "\n",
    "WebDriverWait(driver, 40).until(\n",
    "    EC.presence_of_all_elements_located((By.CSS_SELECTOR, \".IngredientList__Table-sc-12d8srs-1.dFEoGO\"))\n",
    ")\n",
    "\n",
    "soup = BeautifulSoup(driver.page_source, \"html.parser\")\n",
    "ingredient_rows = soup.select(\".IngredientList__Table-sc-12d8srs-1.dFEoGO tr\")\n",
    "\n",
    "for row in ingredient_rows:\n",
    "    try:\n",
    "        name = row.select_one(\".IngredientList__Name-sc-12d8srs-10\").get_text(strip=True)\n",
    "    except AttributeError:\n",
    "        name = None\n",
    "\n",
    "    try:\n",
    "        rating = row.select_one(\".ColoredIngredientRating__Rating-sc-8nrs1d-0\").get_text(strip=True)\n",
    "    except AttributeError:\n",
    "        rating = \"Not Rated\"\n",
    "\n",
    "    try:\n",
    "        description = row.select_one(\".IngredientList__Description-sc-12d8srs-11\").get_text(\" \", strip=True)\n",
    "    except AttributeError:\n",
    "        description = None\n",
    "\n",
    "    df = pd.DataFrame([{\n",
    "        \"name\": name,\n",
    "        \"rating\": rating,\n",
    "        \"description\": description\n",
    "    }])\n",
    "    df.to_csv(file_path, mode=\"a\", header=False, index=False, encoding=\"utf-8\")\n",
    "    print(f\"Data for ingredient '{name}' written to CSV.\")\n",
    "\n",
    "driver.quit()\n"
   ]
  }
 ],
 "metadata": {
  "language_info": {
   "name": "python"
  }
 },
 "nbformat": 4,
 "nbformat_minor": 2
}
