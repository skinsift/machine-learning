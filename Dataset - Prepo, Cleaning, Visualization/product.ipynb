{
 "cells": [
  {
   "cell_type": "markdown",
   "metadata": {},
   "source": [
    "# [1] Import Library"
   ]
  },
  {
   "cell_type": "code",
   "execution_count": 1,
   "metadata": {},
   "outputs": [],
   "source": [
    "import pandas as pd\n",
    "import os"
   ]
  },
  {
   "cell_type": "markdown",
   "metadata": {},
   "source": [
    "# [2] Data Wrangling"
   ]
  },
  {
   "cell_type": "markdown",
   "metadata": {},
   "source": [
    "## [2.1] Gathering Data"
   ]
  },
  {
   "cell_type": "code",
   "execution_count": 29,
   "metadata": {},
   "outputs": [],
   "source": [
    "df = pd.read_csv('./Raw Data/product/product_dataset.csv')"
   ]
  },
  {
   "cell_type": "code",
   "execution_count": 30,
   "metadata": {},
   "outputs": [
    {
     "data": {
      "text/html": [
       "<div>\n",
       "<style scoped>\n",
       "    .dataframe tbody tr th:only-of-type {\n",
       "        vertical-align: middle;\n",
       "    }\n",
       "\n",
       "    .dataframe tbody tr th {\n",
       "        vertical-align: top;\n",
       "    }\n",
       "\n",
       "    .dataframe thead th {\n",
       "        text-align: right;\n",
       "    }\n",
       "</style>\n",
       "<table border=\"1\" class=\"dataframe\">\n",
       "  <thead>\n",
       "    <tr style=\"text-align: right;\">\n",
       "      <th></th>\n",
       "      <th>jenis</th>\n",
       "      <th>kategori</th>\n",
       "      <th>jenis_kulit</th>\n",
       "      <th>merk</th>\n",
       "      <th>nama_product</th>\n",
       "      <th>link_gambar</th>\n",
       "      <th>nama_gambar</th>\n",
       "      <th>key_ingredients</th>\n",
       "      <th>ingredients</th>\n",
       "      <th>deskripsi</th>\n",
       "      <th>no_BPOM</th>\n",
       "      <th>hamil_menyusui</th>\n",
       "      <th>kondisi_kulit</th>\n",
       "      <th>sensitif</th>\n",
       "      <th>tujuan</th>\n",
       "      <th>kegunaan</th>\n",
       "      <th>fungsi</th>\n",
       "    </tr>\n",
       "  </thead>\n",
       "  <tbody>\n",
       "    <tr>\n",
       "      <th>0</th>\n",
       "      <td>Cleanser</td>\n",
       "      <td>Toner</td>\n",
       "      <td>Kering</td>\n",
       "      <td>Viva Cosmetics</td>\n",
       "      <td>Air Mawar</td>\n",
       "      <td>https://image.femaledaily.com/dyn/210/images/p...</td>\n",
       "      <td>vivacosmetics_airmawar</td>\n",
       "      <td>NaN</td>\n",
       "      <td>Aqua, Ethanol, Methylparaben, Rose Extract, Pr...</td>\n",
       "      <td>Air Mawar mengandung sari bunga mawar dan arom...</td>\n",
       "      <td>NA18121202046</td>\n",
       "      <td>Ya</td>\n",
       "      <td>NaN</td>\n",
       "      <td>b</td>\n",
       "      <td>a</td>\n",
       "      <td>Melembabkan kulit, Menyegarkan kulit, Anti-inf...</td>\n",
       "      <td>a,b</td>\n",
       "    </tr>\n",
       "    <tr>\n",
       "      <th>1</th>\n",
       "      <td>Cleanser</td>\n",
       "      <td>Toner</td>\n",
       "      <td>Kering</td>\n",
       "      <td>Whitelab</td>\n",
       "      <td>Brightening Toner</td>\n",
       "      <td>https://image.femaledaily.com/dyn/210/images/p...</td>\n",
       "      <td>whitelab_brighteningtoner</td>\n",
       "      <td>NaN</td>\n",
       "      <td>Aqua, Ethyl Alcohol, Propylene Glycol, Glyceri...</td>\n",
       "      <td>Whitelab Brightening Toner adalah toner yang b...</td>\n",
       "      <td>NA18221205551</td>\n",
       "      <td>Ya</td>\n",
       "      <td>NaN</td>\n",
       "      <td>b</td>\n",
       "      <td>a</td>\n",
       "      <td>Mencerahkan kulit, Mengangkat sisa kotoran di ...</td>\n",
       "      <td>d,e</td>\n",
       "    </tr>\n",
       "    <tr>\n",
       "      <th>2</th>\n",
       "      <td>Cleanser</td>\n",
       "      <td>Toner</td>\n",
       "      <td>Kering</td>\n",
       "      <td>NPURE</td>\n",
       "      <td>Marigold Clearings Petal Toner</td>\n",
       "      <td>https://image.femaledaily.com/dyn/210/images/p...</td>\n",
       "      <td>npure_marigoldclearingspetaltoner</td>\n",
       "      <td>Anti-acne: Niacinamide\\nCell-communicating ing...</td>\n",
       "      <td>Aqua, Glycerin, Lactic Acid, Tromethamine, Pro...</td>\n",
       "      <td>Toner dengan kelopak bunga Marigold asli yang ...</td>\n",
       "      <td>NA18221202239</td>\n",
       "      <td>Tidak</td>\n",
       "      <td>NaN</td>\n",
       "      <td>b</td>\n",
       "      <td>a</td>\n",
       "      <td>Menutrisi kulit, Mencegah penuaan dini, Melind...</td>\n",
       "      <td>a,c,d</td>\n",
       "    </tr>\n",
       "    <tr>\n",
       "      <th>3</th>\n",
       "      <td>Cleanser</td>\n",
       "      <td>Makeup Remover</td>\n",
       "      <td>Kering</td>\n",
       "      <td>Somethinc</td>\n",
       "      <td>Reset Gentle Micellar Cleansing Water</td>\n",
       "      <td>https://image.femaledaily.com/dyn/210/images/p...</td>\n",
       "      <td>somethinc_resetgentlemicellarcleansingwater</td>\n",
       "      <td>Anti-acne: Zinc Gluconate\\nAntioxidant: Calend...</td>\n",
       "      <td>Water, PEG-6 Caprylic/​Capric Glycerides, Prop...</td>\n",
       "      <td>Vegan micellar water dengan surfaktan non-ioni...</td>\n",
       "      <td>NA18211208373</td>\n",
       "      <td>Tidak</td>\n",
       "      <td>NaN</td>\n",
       "      <td>b</td>\n",
       "      <td>a</td>\n",
       "      <td>Membersihkan kotoran dan minyak wajah berlebih...</td>\n",
       "      <td>g</td>\n",
       "    </tr>\n",
       "    <tr>\n",
       "      <th>4</th>\n",
       "      <td>Cleanser</td>\n",
       "      <td>Makeup Remover</td>\n",
       "      <td>Kering</td>\n",
       "      <td>Emina</td>\n",
       "      <td>Skin Buddy Micellar Water</td>\n",
       "      <td>https://image.femaledaily.com/dyn/210/images/p...</td>\n",
       "      <td>emina_skinbuddymicellarwater</td>\n",
       "      <td>Antioxidant: Calendula Officinalis Flower Extr...</td>\n",
       "      <td>Aqua, Propanediol, PEG-6 Caprylic/​Capric Glyc...</td>\n",
       "      <td>Micellar water yang dapat mengangkat make up d...</td>\n",
       "      <td>NA18201203986</td>\n",
       "      <td>Ya</td>\n",
       "      <td>NaN</td>\n",
       "      <td>b</td>\n",
       "      <td>a</td>\n",
       "      <td>Mengangkat make up dan kotoran, menyegarkan kulit</td>\n",
       "      <td>e</td>\n",
       "    </tr>\n",
       "  </tbody>\n",
       "</table>\n",
       "</div>"
      ],
      "text/plain": [
       "      jenis        kategori jenis_kulit             merk  \\\n",
       "0  Cleanser           Toner      Kering  Viva Cosmetics    \n",
       "1  Cleanser           Toner      Kering         Whitelab   \n",
       "2  Cleanser           Toner      Kering            NPURE   \n",
       "3  Cleanser  Makeup Remover      Kering        Somethinc   \n",
       "4  Cleanser  Makeup Remover      Kering            Emina   \n",
       "\n",
       "                            nama_product  \\\n",
       "0                              Air Mawar   \n",
       "1                      Brightening Toner   \n",
       "2         Marigold Clearings Petal Toner   \n",
       "3  Reset Gentle Micellar Cleansing Water   \n",
       "4              Skin Buddy Micellar Water   \n",
       "\n",
       "                                         link_gambar  \\\n",
       "0  https://image.femaledaily.com/dyn/210/images/p...   \n",
       "1  https://image.femaledaily.com/dyn/210/images/p...   \n",
       "2  https://image.femaledaily.com/dyn/210/images/p...   \n",
       "3  https://image.femaledaily.com/dyn/210/images/p...   \n",
       "4  https://image.femaledaily.com/dyn/210/images/p...   \n",
       "\n",
       "                                   nama_gambar  \\\n",
       "0                       vivacosmetics_airmawar   \n",
       "1                    whitelab_brighteningtoner   \n",
       "2            npure_marigoldclearingspetaltoner   \n",
       "3  somethinc_resetgentlemicellarcleansingwater   \n",
       "4                 emina_skinbuddymicellarwater   \n",
       "\n",
       "                                     key_ingredients  \\\n",
       "0                                                NaN   \n",
       "1                                                NaN   \n",
       "2  Anti-acne: Niacinamide\\nCell-communicating ing...   \n",
       "3  Anti-acne: Zinc Gluconate\\nAntioxidant: Calend...   \n",
       "4  Antioxidant: Calendula Officinalis Flower Extr...   \n",
       "\n",
       "                                         ingredients  \\\n",
       "0  Aqua, Ethanol, Methylparaben, Rose Extract, Pr...   \n",
       "1  Aqua, Ethyl Alcohol, Propylene Glycol, Glyceri...   \n",
       "2  Aqua, Glycerin, Lactic Acid, Tromethamine, Pro...   \n",
       "3  Water, PEG-6 Caprylic/​Capric Glycerides, Prop...   \n",
       "4  Aqua, Propanediol, PEG-6 Caprylic/​Capric Glyc...   \n",
       "\n",
       "                                           deskripsi        no_BPOM  \\\n",
       "0  Air Mawar mengandung sari bunga mawar dan arom...  NA18121202046   \n",
       "1  Whitelab Brightening Toner adalah toner yang b...  NA18221205551   \n",
       "2  Toner dengan kelopak bunga Marigold asli yang ...  NA18221202239   \n",
       "3  Vegan micellar water dengan surfaktan non-ioni...  NA18211208373   \n",
       "4  Micellar water yang dapat mengangkat make up d...  NA18201203986   \n",
       "\n",
       "  hamil_menyusui  kondisi_kulit sensitif tujuan  \\\n",
       "0             Ya            NaN        b      a   \n",
       "1             Ya            NaN        b      a   \n",
       "2          Tidak            NaN        b      a   \n",
       "3          Tidak            NaN        b      a   \n",
       "4             Ya            NaN        b      a   \n",
       "\n",
       "                                            kegunaan fungsi  \n",
       "0  Melembabkan kulit, Menyegarkan kulit, Anti-inf...    a,b  \n",
       "1  Mencerahkan kulit, Mengangkat sisa kotoran di ...    d,e  \n",
       "2  Menutrisi kulit, Mencegah penuaan dini, Melind...  a,c,d  \n",
       "3  Membersihkan kotoran dan minyak wajah berlebih...      g  \n",
       "4  Mengangkat make up dan kotoran, menyegarkan kulit      e  "
      ]
     },
     "execution_count": 30,
     "metadata": {},
     "output_type": "execute_result"
    }
   ],
   "source": [
    "df.head()"
   ]
  },
  {
   "cell_type": "markdown",
   "metadata": {},
   "source": [
    "Insight:\n",
    "1. Ada 17 kolom berbeda\n",
    "2. Nilai untuk tiap kolom adalah sebagai berikut:\n",
    "    - jenis = jenis skincare\n",
    "    - kategori = kategori skincare\n",
    "    - jenis_kulit = jenis kulit\n",
    "    - merk = merk skincare\n",
    "    - nama_product = nama produk\n",
    "    - link_gambar = sumber gambar produk yang digunakan\n",
    "    - nama_gambar = nama dari gambar yang telah diunduh\n",
    "    - key_ingredients = ingredients utama dari skincare\n",
    "    - ingredients = ingredient atau bahan penyusun skincare\n",
    "    - deskripsi = deskripsi produk skincare terkait\n",
    "    - no_BPOM = nomor bpom dari skincare\n",
    "    - hamil_menyusui = kolom penanda apakah skincare terkait boleh atau tidak digunakan oleh ibu hamil atau menyusui\n",
    "    - kondisi_kulit = kosong, tidak digunakan\n",
    "    - sensitif = kolom yang menandakan apakah skincare dapat digunakan oleh pemilik kulit sensitif\n",
    "        - a = sensitif\n",
    "        - b = tidak sensitif\n",
    "    - tujuan = kolom yang menandakan label tujuan dari skincare, tujuan bisa dibedakan menjadi berikut:\n",
    "        - a. Membersihkan wajah dari kotoran, minyak, sisa makeup, dan debu\n",
    "        - b. Mengatasi masalah kulit seperti jerawat, noda hitam, kulit kusam, atau tanda penuaan\n",
    "        - c. Menghidrasi kulit, pembersihan mendalam, dan menenangkan kulit\n",
    "        - d. Menjaga kelembapan kulit, mencegah kulit kering, dan mengurangi resiko iritasi tau kerusakan kulit\n",
    "    - kegunaan = kegunaan dari produk terkait (dalam bentuk kalimat atau teks pendek) yang umumnya merupakan kegunaan pertama yang tergantung pada jenis skincare. misalnya cleanser, maka akan cenderung memiliki kegunaan untuk membersihkan\n",
    "    - fungsi = kegunaan tambahan di luar kegunaan utama dari produk terkait. digunakan pada bagian asesmen, fungsi dibedakan menjadi berikut:\n",
    "        - a. Anti-aging\n",
    "        - b. Melembapkan kulit\n",
    "        - c. Menutrisi kulit\n",
    "        - d. Mencerahkan kulit\n",
    "        - e. Menyegarkan kulit\n",
    "        - f. Menenangkan kulit\n",
    "        - g. Tidak, hanya fungsi Utama\n",
    "\n",
    "Note: \n",
    "1. kolom nomor 12, 14, 15, dan 17 (indeks 11, 13, 14, dan 16) digunakan untuk asesmen sehingga dapat dipertimbangkan untuk dihapus agar tidak ditambahkan pada database\n",
    "2. kolom nomor 13 dan 6 (indeks 12 dan 5) tidak digunakan, drop\n",
    "3. kolom nomor 6, 7, 8, 10, 11, dan 16 (indek 5, 6, 7, 9, 10, dan 15) tidak digunakan untuk asesmen sehingga dapat dipertimbangkan untuk dihapus"
   ]
  },
  {
   "cell_type": "code",
   "execution_count": 31,
   "metadata": {},
   "outputs": [
    {
     "name": "stdout",
     "output_type": "stream",
     "text": [
      "Daftar nama gambar:\n",
      "['acnes_creamywash', 'acnes_sealinggel', 'anua_heartleafporecontrolcleansingoil', 'aveeno_dailymoisturizinglotion', 'aveeno_skinreliefmoisturizinglotion', 'avene_thermalspringwater', 'avoskin_hydratingtreatmentessence', 'avoskin_miraculousacnesolutionspottreatment', 'avoskin_miraculousdivineauratoner-essence', 'avoskin_miraculousrefiningserum', 'avoskin_perfecthydratingtreatmentessence', 'avoskin_serummiraculousrefining', \"avoskin_yourskinbaeniacinami'de\", 'axis-y_mugwortporeclarifyingwashoffpack', 'azarinecosmetic_purifyingdeepcleansingclaymask', 'azarine_calmmyacnesunscreenmoisturiserspf35pa+++', 'azarine_cwhitenightmoisturizer', 'azarine_hydrasoothesunscreengelspf45+++', 'azarine_hydrasoothesunscreengelspf45pa++++', 'beautyofjoseon_centellaasiaticacalmingmask', 'beautyofjoseon_ginsengcleansingoil', 'benton_fermentationeyecream', 'benton_honesteyelashserum', 'bioaqua_redbeanmoisturizing&brighteningfacialmask', 'bioaqua_salicylicacidacne', 'biobeautylab_luxuriousfacialoilserum', 'bioderma_atodermgeldouche', 'biooil_dryskingel', 'biore_uvaquarichwateryessencespf50+pa+++', 'biotalk_oatceramidelotion', 'breylee_blackheadmask', 'camille_littlepopfacemist', 'celebon_pearlcollagenessencemask', 'celebon_snailcollagenessencemask', 'cetaphil_dailyadvanceultrahydratinglotion', 'cetaphil_extragentledailyscrub', 'cetaphil_gentleskincleanser', 'citra_bodyserumfreshglow', 'cleorabeauty_3minuteexfogel', 'cleorabeauty_3minutesexfoliatinggel', 'coscx_naturalbhaskinreturningemulsion', 'cosrx_advancedsnailpeptideeyecream', 'cosrx_aha7whiteheadpowerliquid', 'cosrx_ahabhaclarifyingtoner', 'cosrx_aloesoothingsuncream', 'cosrx_aloeveraoil-freemoisturecream', 'cosrx_lowphgoodmorninggelcleanser', 'cosrx_lowphphabarriermist', 'cosrx_oil-freeultra-moisturizinglotion', 'crystallure_supremerevitalizingoilserum', 'dermaangel_acnecareintensivegel', 'dorskin_matchaglowdreammask', 'elformula_intensivepeelingsolution', 'elformula_intensivepeelingsolution', 'emina_apricotjamfacescrub', 'emina_aquainfusedsleepingmask', 'emina_masqueradefacemaskcharcoal', 'emina_ms.pimpleacnesolutionexfoliating', 'emina_sheetmaskrice', 'emina_skinbuddymicellarwater', 'emina_sunprotectionspf30pa+++', 'erha_acnefacialmask', 'etudehouse_mylashserum', 'everpure_organicrosewater', 'everpure_sul-pureacneclearingmask', 'everpure_sul-pureacnecreamcleanser', 'evershine_moringasoothinggel', 'facetology_triplecareacnecalmmicellarwater', 'fresh_rosefacemask', 'garnier_micellaroil-infusedcleansingwater', 'glad2glow_centella2%salicylicacidpowerclearacneserum', 'glad2glow_centellaallantoinsoothingmoisturizergel', 'glad2glow_rosehipvitamineluxuriousfacialoil', 'hadalabo_gokujyunultimatemoisturizingfacemist', 'hadalabo_gokujyunultimatemoisturizingfacewash', 'hadalabo_perfect3dgel', 'hanasui_collagenwatersunscreenspf50pa++++', 'hanasui_powerpeelingserum', 'hanskin_porecleansingoil[bha]', 'harlette_oatmilksleepingmask', 'harlette_waterymelondeephydrationemulsion', 'herbivorebotanicals_rosehibiscushydratingfacemist', 'herborist_aloeveragel98%', 'himalaya_purifyingneemscrub', 'innisfree_aloerevitalsoothinggel', 'innisfree_appleseedcleansingcream', 'innisfree_greenteaseedeyecream', 'innisfree_greenteaseedserum', 'innisfree_jejuvolcanicporeclaymask', 'joylab_hi!brighteyegelcreme', \"kiehl's_creamyeyetreatmentwithavocado\", 'kiehl’s_ultrafacialoil-freegel-cream', 'kosecosmeport_softymocleansingoil', \"l'orealparis_hyaluronicacidplumpingcreamday\", \"l'oreal_revitaliftcrystalmicroessence\", 'lacoco_amazoniancharcoalglowmask', 'laneige_cicasleepingmask', 'laneige_waterbankhydromist', 'larissa_milkcleanserteatree', 'larocheposay_thermalspringwater', 'madamegie_protectmesunscreenspf30pa++', 'madamegie_skinbarriermoisturizer', 'mediheal_teatreecaresolutionessentialmaskex', 'missha_airyfitsheetmaskpotato', 'missha_premiumcicaaloesoothinggel', 'moriganic_hydrocreammoisturizer', 'nacific_phytoniacinwhiteningsleepingmask', 'nacific_realfloralrosetoner', 'naturerepublic_aloevera92%soothinggel', 'naturerepublic_goodskincollagenmasksheet', 'naturmiracle_antiacnefaceoilserum', 'neutrogena_hydroboosthyaluronicacidwatergel', 'nivea_intensivemoisturebodylotion', 'nivea_soft', 'noni_comfort', 'noni_probiotics', 'noroid_soothinglotion', 'npure_cicaacnespot', 'npure_cicabeatthesunspf50pa++++', 'npure_cicabiomeacneserumessence', 'npure_cicachocomintclaymask', 'npure_cicafacesheetmask', 'npure_licoriceadvancedpeelinggel', 'npure_licoriceadvancepeelinggel', 'npure_marigoldclearingspetaltoner', 'npure_noniprobiotics“comfortme”moisturizer', 'npure_noniprobiotics“relaxme”biodegradablesheetmask', 'nutrishe_nutrilasheyelash&eyebrowserum', 'omg_peachglowingtoner', 'pixy_aquabeautyprotectingmist', 'pixy_white-aquabrighteningsleepingmask', 'safi_agedefygoldwateressence', 'salsacosmetic_eyelash&eyebrowserum', 'sariayu_acnecarefacialfoam', 'scarlett_7xceramidemoisturizer', 'scarlett_fragrancebrighteningbodylotionjolly', 'scarlett_peelingsogood', 'seamakeup_acneclearmicellarwater', 'sebamed_anti-dryhydratingbodylotion', 'sebamed_clearfacecaregel', \"sensatiabotanicals_cleopatra'srosefacialhydrate\", 'sensatiabotanicals_rejuvenatingpomegranatecleansingoil', 'sensatiabotanicals_teatree&lemonfacialhydrate', 'sephoracollectionfacemask_bananacreammask', 'skin1004_madagascarcentellabhafoam', 'skin1004_madagascarcentellalightcleansingoil', 'skinaqua_moisturegel', 'skinaqua_uvwhiteningmilk', 'skindewi_temulawakbalancingfacialemulsion', 'skingame_acnewarriorpaste', 'skinoia_calendulalightcleansingoil', 'skintific_2%salicylicacidbhaacnespottreatment', 'skintific_3xacidanti-acnegelmoisturizer', 'skintific_5xceramidelowphcleanser', 'skintific_lacticacidskinrenewalexfoliatingserum', 'skintific_lacticacidskinrenewalexfoliatingserum', 'skintific_mugwortacneclaystick', 'skintif_4dhyaluronicacidhydratingserum', 'somebymi_ahabhapha30daysmiracleserum', 'somebymi_realcica92%coolcalmingsoothinggel', 'somebymi_yujaniacinbrighteningpeelinggel', 'somethinc_ahabhaphapeelingserum', 'somethinc_alphasqualanexoidantdeepcleansingoil', 'somethinc_bakuchiolskinpairoilserum', 'somethinc_beepower&propolismanukahoneysleepingmask', 'somethinc_beepowerpropolis&manukahoneysleeping', 'somethinc_beepowerpropolis&manukahoneysleepingmask', 'somethinc_calmdown!skinpairr-covercream', 'somethinc_calmdownskinpairbarrierserum', 'somethinc_ceramicskinsaviourmoisturizergel', 'somethinc_gamechangertripeptideeyeconcentrategel', 'somethinc_holyshield!uvwaterysunscreengelspf50+pa++++', 'somethinc_mugwortellacharcoaldeepporecleansing10minuteswashoffmask', 'somethinc_omegabutterdeepcleansingbalm', 'somethinc_resetgentlemicellarcleansingwater', 'somethinc_skingoalsbrighteningbodycrème', 'somethinc_supplepowerhyaluronic9+onsenessencetoner', 'something_skin_goals', 'teratubeauty_chamomile&olivedeepcleansingoil', 'theaubree_keratinxbiotinlashandbrowbooster', 'thebodyshop_mintmattifyingfacemist', 'thebodyshop_vitaminehydratingtoner', 'thefaceshop_riceceramidemoisturizingemulsion', 'thefaceshop_ricewaterbrightcleansingcream', 'theordinary_glycolicacid7%toningsolution', 'theoriginote_acneb5serumsalicylicacid+panthenolwithtamanuoil', 'theoriginote_acnespotcream', 'theoriginote_ceratidesbarrierserum', 'theoriginote_cicamidefacialcleanser', 'theoriginote_h-llowclarifyingtoner', 'theoriginote_hyaluceramoisturizer', 'theoriginote_hyalurosemicellarwater', 'theoriginote_roseb3brighteningjellymask', 'theoriginote_rosehipoilantioxidant+', 'trueve_truebarriermineralsunscreen', 'ultra_facial_oil_free_gel_cream', 'vaseline_healthybrightperfect10', 'vaseline_intensivecarealoesoothelotion', 'vivacosmetics_airmawar', 'vivacosmetics_milkcleanserbengkuang', 'vivacosmetics_queenrosefacemist', 'wardah_acnedermacnespottreatmentgel', 'wardah_acnedermporerefeningtoner', 'wardah_acnedermserum', 'wardah_c-defensefacemist', 'wardah_crystalsecretmeltingmilkcleanser', 'wardah_lighteningblueclaymask', 'wardah_lighteningcleansingmilk', 'wardah_naturedailymineral+clarifyingclaymask', 'wardah_naturedailywitchhazelpurifyingmoisturizergel', 'wardah_renewyouantiagingeyecream', 'wardah_renewyouhydrafirmsleepingmask', 'wardah_uvshieldacnecalmingsunscreenmoisturizerspf35pa+++', 'wardah_uvshieldessentialsunscreengelspf35pa+++', 'whitelab_acnecalmingserum', 'whitelab_acnecaremoisturizergel', 'whitelab_brighteningnightcream', 'whitelab_brighteningtoner', 'whitelab_eyecream', 'whitelab_hydratingfaceessence', 'whitelab_peelingserumahabhapha', 'whitelab_ph-balancedfacialcleanser', 'y.o.u_acneplusmulti-actionskincream']\n",
      "Banyaknya gambar:\n",
      "223\n"
     ]
    }
   ],
   "source": [
    "folder = './Photos'\n",
    "image_extensions = ['.jpg', '.png', '.jpeg', '.bmp', '.gif']\n",
    "image_files = [f for f in os.listdir(folder) if os.path.splitext(f)[1].lower() in image_extensions]\n",
    "image_files_no_ext = [os.path.splitext(f)[0] for f in image_files]\n",
    "print(\"Daftar nama gambar:\")\n",
    "print(image_files_no_ext)\n",
    "print(\"Banyaknya gambar:\")\n",
    "print(len(image_files_no_ext))"
   ]
  },
  {
   "cell_type": "markdown",
   "metadata": {},
   "source": [
    "Insight:\n",
    "1. Terdapat 223 gambar"
   ]
  },
  {
   "cell_type": "markdown",
   "metadata": {},
   "source": [
    "## [2.2] Assessing Data"
   ]
  },
  {
   "cell_type": "code",
   "execution_count": 32,
   "metadata": {},
   "outputs": [
    {
     "name": "stdout",
     "output_type": "stream",
     "text": [
      "<class 'pandas.core.frame.DataFrame'>\n",
      "RangeIndex: 302 entries, 0 to 301\n",
      "Data columns (total 17 columns):\n",
      " #   Column           Non-Null Count  Dtype  \n",
      "---  ------           --------------  -----  \n",
      " 0   jenis            302 non-null    object \n",
      " 1   kategori         302 non-null    object \n",
      " 2   jenis_kulit      302 non-null    object \n",
      " 3   merk             287 non-null    object \n",
      " 4   nama_product     287 non-null    object \n",
      " 5   link_gambar      287 non-null    object \n",
      " 6   nama_gambar      302 non-null    object \n",
      " 7   key_ingredients  284 non-null    object \n",
      " 8   ingredients      287 non-null    object \n",
      " 9   deskripsi        287 non-null    object \n",
      " 10  no_BPOM          232 non-null    object \n",
      " 11  hamil_menyusui   302 non-null    object \n",
      " 12  kondisi_kulit    0 non-null      float64\n",
      " 13  sensitif         302 non-null    object \n",
      " 14  tujuan           302 non-null    object \n",
      " 15  kegunaan         287 non-null    object \n",
      " 16  fungsi           302 non-null    object \n",
      "dtypes: float64(1), object(16)\n",
      "memory usage: 40.2+ KB\n"
     ]
    }
   ],
   "source": [
    "df.info()"
   ]
  },
  {
   "cell_type": "markdown",
   "metadata": {},
   "source": [
    "Insight:\n",
    "1. Kolom kondisi kulit null semua\n",
    "2. Kolom merk, nama_product, ingredients, deskripsi, dan kegunaan memiliki jumlah data non null yang sama\n",
    "    Note:\n",
    "    Dapat diasumsikan ada 287 produk, di mana 302 - 287 = 15 data kosong jika dibandingkan kategori dan jenis kulit. Artinya, ada kategori dari jenis kulit tertentu atau sebaliknya yang tidak ditemukan produk yang cocok untuk direkomendasikan\n",
    "3. Kolom no_BPOM harus berjumlah = poin nomor 2 untuk membuktikan bahwa produk layak direkomendasikan dan digunakan\n",
    "4. Kolom hamil_menyusui tidak memiliki jumlah yang sama dengan poin 2, artinya ada produk yang tidak ditemukan informasi mengenai kelayakan digunakan oleh ibu hamil atau menyusui\n",
    "5. Sesuai dengan poin 1, ada 287 product namun gambar yang ada hanyalah 223. Pastikan semua nama gambar ada di dalam folder photos\n",
    "\n",
    "Note:\n",
    "1. Untuk memastikan hanya produk yang layak atau teruji klinis yang direkomendasikan, maka drop semua produk yang tidak ditemukan nomor BPOMnya\n",
    "2. Karena data tidak digunakan untuk analisis data lebih lanjut (misalnya visuallisasi ataupun groupby), maka tipe data tidak diubah. Jika diubah, maka beberapa kolom yang memiliki nilai berpola atau terbatas bisa diubah menjadi kategori\n",
    "3. Pastikan semua nama gambar ada di dalam folder photos"
   ]
  },
  {
   "cell_type": "code",
   "execution_count": 33,
   "metadata": {},
   "outputs": [
    {
     "data": {
      "text/plain": [
       "jenis                0\n",
       "kategori             0\n",
       "jenis_kulit          0\n",
       "merk                15\n",
       "nama_product        15\n",
       "link_gambar         15\n",
       "nama_gambar          0\n",
       "key_ingredients     18\n",
       "ingredients         15\n",
       "deskripsi           15\n",
       "no_BPOM             70\n",
       "hamil_menyusui       0\n",
       "kondisi_kulit      302\n",
       "sensitif             0\n",
       "tujuan               0\n",
       "kegunaan            15\n",
       "fungsi               0\n",
       "dtype: int64"
      ]
     },
     "execution_count": 33,
     "metadata": {},
     "output_type": "execute_result"
    }
   ],
   "source": [
    "df.isna().sum()"
   ]
  },
  {
   "cell_type": "markdown",
   "metadata": {},
   "source": [
    "Insight:\n",
    "1. Seperti yang telah disebutkan sebelumnya, ada 15 merk, nama_product, link_gambar yang null\n",
    "2. Key ingredients memiliki jumlah null lebih banyak (18) jika dibandingkan poin nomor 1. Artinya ada 3 product tanpa key ingredient\n",
    "3. no_BPOM banyak yang null, harus didrop\n",
    "4. Ingredients, deskripsi, kegunaan memiliki null yang sama dengan poin 1, benar\n",
    "\n",
    "Note:\n",
    "1. Drop baris yang tidak berisi nama product\n",
    "2. Drop semua baris dengan no_BPOM null"
   ]
  },
  {
   "cell_type": "code",
   "execution_count": 34,
   "metadata": {},
   "outputs": [
    {
     "data": {
      "text/plain": [
       "6"
      ]
     },
     "execution_count": 34,
     "metadata": {},
     "output_type": "execute_result"
    }
   ],
   "source": [
    "df.duplicated().sum()"
   ]
  },
  {
   "cell_type": "markdown",
   "metadata": {},
   "source": [
    "Insight:\n",
    "1. Terdapat 6 duplikat\n",
    "\n",
    "Note:\n",
    "1. Drop semua duplikat"
   ]
  },
  {
   "cell_type": "code",
   "execution_count": 35,
   "metadata": {},
   "outputs": [
    {
     "name": "stdout",
     "output_type": "stream",
     "text": [
      "           jenis                 kategori jenis_kulit merk nama_product  \\\n",
      "248     Cleanser           Cream & Lotion  Berjerawat  NaN          NaN   \n",
      "262    Treatment  Skin Soothing Treatment  Berjerawat  NaN          NaN   \n",
      "263    Treatment  Skin Soothing Treatment  Berjerawat  NaN          NaN   \n",
      "265    Treatment    Brow & Lash Treatment  Berjerawat  NaN          NaN   \n",
      "266    Treatment    Brow & Lash Treatment  Berjerawat  NaN          NaN   \n",
      "289  Moisturizer                Face Mist  Berjerawat  NaN          NaN   \n",
      "\n",
      "    link_gambar nama_gambar key_ingredients ingredients deskripsi no_BPOM  \\\n",
      "248         NaN           _             NaN         NaN       NaN     NaN   \n",
      "262         NaN           _             NaN         NaN       NaN     NaN   \n",
      "263         NaN           _             NaN         NaN       NaN     NaN   \n",
      "265         NaN           _             NaN         NaN       NaN     NaN   \n",
      "266         NaN           _             NaN         NaN       NaN     NaN   \n",
      "289         NaN           _             NaN         NaN       NaN     NaN   \n",
      "\n",
      "    hamil_menyusui  kondisi_kulit sensitif tujuan kegunaan fungsi  \n",
      "248          Tidak            NaN        b      a      NaN      g  \n",
      "262          Tidak            NaN        b      b      NaN      g  \n",
      "263          Tidak            NaN        b      b      NaN      g  \n",
      "265          Tidak            NaN        b      b      NaN      g  \n",
      "266          Tidak            NaN        b      b      NaN      g  \n",
      "289          Tidak            NaN        b      d      NaN      g  \n"
     ]
    }
   ],
   "source": [
    "duplicates = df[df.duplicated()]\n",
    "print(duplicates)"
   ]
  },
  {
   "cell_type": "markdown",
   "metadata": {},
   "source": [
    "Insight:\n",
    "1. Yang terduplikat adalah data null yang tidak akan digunakan\n",
    "\n",
    "Note:\n",
    "1. Drop semua duplikat"
   ]
  },
  {
   "cell_type": "code",
   "execution_count": 36,
   "metadata": {},
   "outputs": [
    {
     "data": {
      "text/html": [
       "<div>\n",
       "<style scoped>\n",
       "    .dataframe tbody tr th:only-of-type {\n",
       "        vertical-align: middle;\n",
       "    }\n",
       "\n",
       "    .dataframe tbody tr th {\n",
       "        vertical-align: top;\n",
       "    }\n",
       "\n",
       "    .dataframe thead th {\n",
       "        text-align: right;\n",
       "    }\n",
       "</style>\n",
       "<table border=\"1\" class=\"dataframe\">\n",
       "  <thead>\n",
       "    <tr style=\"text-align: right;\">\n",
       "      <th></th>\n",
       "      <th>kondisi_kulit</th>\n",
       "    </tr>\n",
       "  </thead>\n",
       "  <tbody>\n",
       "    <tr>\n",
       "      <th>count</th>\n",
       "      <td>0.0</td>\n",
       "    </tr>\n",
       "    <tr>\n",
       "      <th>mean</th>\n",
       "      <td>NaN</td>\n",
       "    </tr>\n",
       "    <tr>\n",
       "      <th>std</th>\n",
       "      <td>NaN</td>\n",
       "    </tr>\n",
       "    <tr>\n",
       "      <th>min</th>\n",
       "      <td>NaN</td>\n",
       "    </tr>\n",
       "    <tr>\n",
       "      <th>25%</th>\n",
       "      <td>NaN</td>\n",
       "    </tr>\n",
       "    <tr>\n",
       "      <th>50%</th>\n",
       "      <td>NaN</td>\n",
       "    </tr>\n",
       "    <tr>\n",
       "      <th>75%</th>\n",
       "      <td>NaN</td>\n",
       "    </tr>\n",
       "    <tr>\n",
       "      <th>max</th>\n",
       "      <td>NaN</td>\n",
       "    </tr>\n",
       "  </tbody>\n",
       "</table>\n",
       "</div>"
      ],
      "text/plain": [
       "       kondisi_kulit\n",
       "count            0.0\n",
       "mean             NaN\n",
       "std              NaN\n",
       "min              NaN\n",
       "25%              NaN\n",
       "50%              NaN\n",
       "75%              NaN\n",
       "max              NaN"
      ]
     },
     "execution_count": 36,
     "metadata": {},
     "output_type": "execute_result"
    }
   ],
   "source": [
    "df.describe()"
   ]
  },
  {
   "cell_type": "markdown",
   "metadata": {},
   "source": [
    "Insight:\n",
    "1. Tidak ada informasi yang diperoleh karena tipe datanya adalah object dan describe() digunakan untuk menampilkan statistik numerik"
   ]
  },
  {
   "cell_type": "code",
   "execution_count": 37,
   "metadata": {},
   "outputs": [
    {
     "name": "stdout",
     "output_type": "stream",
     "text": [
      "['Ya' 'Tidak'\n",
      " 'Bahan yang kami formulasikan sudah mendapat persetujuan standar BPOM. Namun mengingat ibu hamil terkadang memiliki alergi terhadap hal-hal tertentu & perubahan hormonal, lebih baik konsultasikan kandungan bahan dalam produk kepada dokter kandungan anda.'\n",
      " 'Ibu menyusui atau ibu hamil disarankan untuk berkonsultasi dulu dengan dokter jika ingin menggunakan produk ini.'\n",
      " 'Harap Konsultasi terlebih dahulu' 'Harap konsultasi terlebih dahulu'\n",
      " 'Namun mengingat ibu hamil terkadang memiliki alergi terhadap hal-hal tertentu & mengalami perubahan hormonal, disarankan untuk berkonsultasi ke dokter kandungan mengenai bahan aktif dalam skincare yang digunakan.'\n",
      " 'Ys']\n"
     ]
    }
   ],
   "source": [
    "unique_values = df['hamil_menyusui'].unique()\n",
    "print(unique_values)"
   ]
  },
  {
   "cell_type": "markdown",
   "metadata": {},
   "source": [
    "Insight:\n",
    "1. Ada banyak nilai yang belum bernilai 'Ya' atau 'Tidak'\n",
    "\n",
    "Note:\n",
    "1. Perbaiki kesalahan menjadi sebagai berikut:\n",
    "    'Bahan yang kami formulasikan sudah mendapat persetujuan standar BPOM. Namun mengingat ibu hamil terkadang memiliki alergi terhadap hal-hal tertentu & perubahan hormonal, lebih baik konsultasikan kandungan bahan dalam produk kepada dokter kandungan anda.': 'Ya',\n",
    "    'Ibu menyusui atau ibu hamil disarankan untuk berkonsultasi dulu dengan dokter jika ingin menggunakan produk ini.': 'Tidak',\n",
    "    'Harap Konsultasi terlebih dahulu': 'Tidak',\n",
    "    'Namun mengingat ibu hamil terkadang memiliki alergi terhadap hal-hal tertentu & mengalami perubahan hormonal, disarankan untuk berkonsultasi ke dokter kandungan mengenai bahan aktif dalam skincare yang digunakan.': 'Ya',\n",
    "    'Ys': 'Ya',\n",
    "    'Harap konsultasi terlebih dahulu' : 'Tidak'\n",
    "2. Karena asesmen berupa pilihan ganda, maka ubah nilai 'Ya' menjadi 'a' dan 'Tidak' menjadi 'b'"
   ]
  },
  {
   "cell_type": "code",
   "execution_count": 38,
   "metadata": {},
   "outputs": [
    {
     "name": "stdout",
     "output_type": "stream",
     "text": [
      "['Cleanser' 'Treatment' 'Mask' 'Moisturizer']\n"
     ]
    }
   ],
   "source": [
    "unique_jenis = df['jenis'].unique()\n",
    "print(unique_jenis)"
   ]
  },
  {
   "cell_type": "markdown",
   "metadata": {},
   "source": [
    "Insight:\n",
    "1. Ada 4 nilai jenis, benar"
   ]
  },
  {
   "cell_type": "code",
   "execution_count": 39,
   "metadata": {},
   "outputs": [
    {
     "name": "stdout",
     "output_type": "stream",
     "text": [
      "['Toner' 'Makeup Remover' 'Cream & Lotion' 'Facial Wash' 'Oil'\n",
      " 'Scrub & Exfoliator' 'Eye Treatment' 'Skin Soothing Treatment'\n",
      " 'Brow & Lash Treatment' 'Peeling' 'Serum & Essence' 'Acne Treatment'\n",
      " 'Sleeping Mask' 'Nose Pack' 'Mask Sheet' 'Wash-Off' 'Lotion & Emulsion'\n",
      " 'Face Mist' 'Gel' 'Sun Protection' 'Cream' 'Face Oil']\n"
     ]
    }
   ],
   "source": [
    "unique_kategori = df['kategori'].unique()\n",
    "print(unique_kategori)\n"
   ]
  },
  {
   "cell_type": "markdown",
   "metadata": {},
   "source": [
    "Insight:\n",
    "1. Terdapat 22 kategori skincare, yaitu 'Toner' 'Makeup Remover', 'Cream & Lotion', 'Facial Wash', 'Oil', 'Scrub & Exfoliator', 'Eye Treatment', 'Skin Soothing Treatment', 'Brow & Lash Treatment' 'Peeling' 'Serum & Essence' 'Acne Treatment', 'Sleeping Mask', 'Nose Pack', 'Mask Sheet', 'Wash-Off', 'Lotion & Emulsion', 'Face Mist', 'Gel', 'Sun Protection', 'Cream', dan 'Face Oil'"
   ]
  },
  {
   "cell_type": "code",
   "execution_count": 40,
   "metadata": {},
   "outputs": [
    {
     "name": "stdout",
     "output_type": "stream",
     "text": [
      "['Kering' 'Berminyak' 'Sensitif' 'Normal' 'Berjerawat']\n"
     ]
    }
   ],
   "source": [
    "unique_kulit = df['jenis_kulit'].unique()\n",
    "print(unique_kulit)"
   ]
  },
  {
   "cell_type": "markdown",
   "metadata": {},
   "source": [
    "Insight:\n",
    "1. Terdapat 5 kategori kulit, yaitu Kering, Berminyak, Sensitif, Normal, dan Berjerawat"
   ]
  },
  {
   "cell_type": "code",
   "execution_count": 41,
   "metadata": {},
   "outputs": [
    {
     "name": "stdout",
     "output_type": "stream",
     "text": [
      "['b' 'a']\n"
     ]
    }
   ],
   "source": [
    "unique_sensitif = df['sensitif'].unique()\n",
    "print(unique_sensitif)"
   ]
  },
  {
   "cell_type": "markdown",
   "metadata": {},
   "source": [
    "Insight:\n",
    "1. Terdapat 2 tipe nilai pada kolom sensitif yaitu b yang mewakili 'Tidak sensitif' dan a yang mewakili 'Sensitif'"
   ]
  },
  {
   "cell_type": "code",
   "execution_count": 42,
   "metadata": {},
   "outputs": [
    {
     "name": "stdout",
     "output_type": "stream",
     "text": [
      "['a' 'b' 'c' 'd']\n"
     ]
    }
   ],
   "source": [
    "unique_tujuan = df['tujuan'].unique()\n",
    "print(unique_tujuan)"
   ]
  },
  {
   "cell_type": "markdown",
   "metadata": {},
   "source": [
    "Insight:\n",
    "1. Terdapat 4 tipe nilai pada kolom tujuan yang mewakili:\n",
    "    a. Membersihkan wajah dari kotoran, minyak, sisa makeup, dan debu\n",
    "    b. Mengatasi masalah kulit seperti jerawat, noda hitam, kulit kusam, atau tanda penuaan\n",
    "    c. Menghidrasi kulit, pembersihan mendalam, dan menenangkan kulit\n",
    "    d. Menjaga kelembapan kulit, mencegah kulit kering, dan mengurangi resiko iritasi tau kerusakan kulit"
   ]
  },
  {
   "cell_type": "code",
   "execution_count": 43,
   "metadata": {},
   "outputs": [
    {
     "name": "stdout",
     "output_type": "stream",
     "text": [
      "['a' 'b' 'd' 'e' 'c' 'g' 'f']\n"
     ]
    }
   ],
   "source": [
    "unique_huruf = df['fungsi'].str.split(',').explode().unique()\n",
    "print(unique_huruf)"
   ]
  },
  {
   "cell_type": "markdown",
   "metadata": {},
   "source": [
    "Insight:\n",
    "1. Terdapat banyak kombinasi nilai dari kolom fungsi. Walaupun hurufnya sama, pembedanya adalah ada tidaknya spasi di bagian depan\n",
    "\n",
    "Note:\n",
    "1. Perbaiki nilai, putuskan apakah berisi spasi sebelum huruf atau tidak"
   ]
  },
  {
   "cell_type": "markdown",
   "metadata": {},
   "source": [
    "Kesimpulan:\n",
    "1. kolom nomor 12, 14, 15, dan 17 (indeks 11, 13, 14, dan 16) digunakan untuk asesmen sehingga dapat dipertimbangkan untuk dihapus agar tidak ditambahkan pada database\n",
    "2. kolom nomor 13 dan 6 (indeks 12 dan 5) tidak digunakan, drop\n",
    "3. kolom nomor 6, 7, 8, 9, 10, 11, dan 16 (indek 5, 6, 7, 8, 9, 10, dan 15) tidak digunakan untuk asesmen sehingga dapat dipertimbangkan untuk dihapus\n",
    "4. untuk memastikan hanya produk yang layak atau teruji klinis yang direkomendasikan, maka drop semua produk yang tidak ditemukan nomor BPOMnya\n",
    "5. drop semua duplikat\n",
    "6. perbaiki kesalahan menjadi sebagai berikut:\n",
    "    'Bahan yang kami formulasikan sudah mendapat persetujuan standar BPOM. Namun mengingat ibu hamil terkadang memiliki alergi terhadap hal-hal tertentu & perubahan hormonal, lebih baik konsultasikan kandungan bahan dalam produk kepada dokter kandungan anda.': 'Ya',\n",
    "    'Ibu menyusui atau ibu hamil disarankan untuk berkonsultasi dulu dengan dokter jika ingin menggunakan produk ini.': 'Tidak',\n",
    "    'Harap Konsultasi terlebih dahulu': 'Tidak',\n",
    "    'Namun mengingat ibu hamil terkadang memiliki alergi terhadap hal-hal tertentu & mengalami perubahan hormonal, disarankan untuk berkonsultasi ke dokter kandungan mengenai bahan aktif dalam skincare yang digunakan.': 'Ya',\n",
    "    'Ys': 'Ya',\n",
    "    'Harap konsultasi terlebih dahulu' : 'Tidak'\n",
    "7. karena asesmen berupa pilihan ganda, maka ubah nilai 'Ya' menjadi 'a' dan 'Tidak' menjadi 'b'\n",
    "8. pastikan semua nama gambar ada di dalam folder photos\n",
    "9. drop baris yang tidak ada nama product\n",
    "10. (PENGECEKAN MANUAL) Banyak data pada kolom tertentu tidak diakhiri dengan tanda baca titik. Misalnya pada kolom ingredients, deskripsi, dan kegunaan.\n",
    "11. (PENGECEKAN MANUAL) Penggunaan huruf kapital dan tidak pada kolom kegunaan masih rancu\n",
    "12. (PENGECEKAN MANUAL) Ada beberapa karakter khusus yang ditemukan, ganti\n",
    "\n",
    "Urutan Cleaning:\n",
    "2, 5, 4, 9, 6, 7, 8, 10, 1, 3\n",
    "\n",
    "Poin nomor 11 dan 12 akan dilakukan secara manual setelah cleaning selesai\n"
   ]
  },
  {
   "cell_type": "markdown",
   "metadata": {},
   "source": [
    "## [2.3] Cleaning Data"
   ]
  },
  {
   "cell_type": "markdown",
   "metadata": {},
   "source": [
    "### 2.3.1 Drop kolom nomor 13 dan 6 (indeks 12 dan 5) yaitu kondisi kulit dan link gambar"
   ]
  },
  {
   "cell_type": "code",
   "execution_count": 44,
   "metadata": {},
   "outputs": [],
   "source": [
    "df.drop(columns=['link_gambar', 'kondisi_kulit'], inplace=True)"
   ]
  },
  {
   "cell_type": "code",
   "execution_count": 45,
   "metadata": {},
   "outputs": [
    {
     "name": "stdout",
     "output_type": "stream",
     "text": [
      "<class 'pandas.core.frame.DataFrame'>\n",
      "RangeIndex: 302 entries, 0 to 301\n",
      "Data columns (total 15 columns):\n",
      " #   Column           Non-Null Count  Dtype \n",
      "---  ------           --------------  ----- \n",
      " 0   jenis            302 non-null    object\n",
      " 1   kategori         302 non-null    object\n",
      " 2   jenis_kulit      302 non-null    object\n",
      " 3   merk             287 non-null    object\n",
      " 4   nama_product     287 non-null    object\n",
      " 5   nama_gambar      302 non-null    object\n",
      " 6   key_ingredients  284 non-null    object\n",
      " 7   ingredients      287 non-null    object\n",
      " 8   deskripsi        287 non-null    object\n",
      " 9   no_BPOM          232 non-null    object\n",
      " 10  hamil_menyusui   302 non-null    object\n",
      " 11  sensitif         302 non-null    object\n",
      " 12  tujuan           302 non-null    object\n",
      " 13  kegunaan         287 non-null    object\n",
      " 14  fungsi           302 non-null    object\n",
      "dtypes: object(15)\n",
      "memory usage: 35.5+ KB\n"
     ]
    }
   ],
   "source": [
    "df.info()"
   ]
  },
  {
   "cell_type": "markdown",
   "metadata": {},
   "source": [
    "Insight:\n",
    "1. Kolom link_gambar dan kondisi kulit berhasil terhapus"
   ]
  },
  {
   "cell_type": "markdown",
   "metadata": {},
   "source": [
    "### 2.3.2 Drop semua duplikat"
   ]
  },
  {
   "cell_type": "code",
   "execution_count": 46,
   "metadata": {},
   "outputs": [],
   "source": [
    "df = df.drop_duplicates()"
   ]
  },
  {
   "cell_type": "code",
   "execution_count": 47,
   "metadata": {},
   "outputs": [
    {
     "data": {
      "text/plain": [
       "0"
      ]
     },
     "execution_count": 47,
     "metadata": {},
     "output_type": "execute_result"
    }
   ],
   "source": [
    "df.duplicated().sum()"
   ]
  },
  {
   "cell_type": "markdown",
   "metadata": {},
   "source": [
    "Insight:\n",
    "1. Sudah tidak ada yang duplikat"
   ]
  },
  {
   "cell_type": "markdown",
   "metadata": {},
   "source": [
    "### 2.3.3 Drop semua yang tidak ada no_BPOM"
   ]
  },
  {
   "cell_type": "code",
   "execution_count": 48,
   "metadata": {},
   "outputs": [],
   "source": [
    "df = df.dropna(subset=['no_BPOM'])"
   ]
  },
  {
   "cell_type": "code",
   "execution_count": 49,
   "metadata": {},
   "outputs": [
    {
     "name": "stdout",
     "output_type": "stream",
     "text": [
      "0\n"
     ]
    }
   ],
   "source": [
    "null_bpom = df['no_BPOM'].isnull().sum()\n",
    "print(null_bpom)"
   ]
  },
  {
   "cell_type": "markdown",
   "metadata": {},
   "source": [
    "Insight:\n",
    "1. Sudah tidak ada baris dengan no_BPOM null"
   ]
  },
  {
   "cell_type": "markdown",
   "metadata": {},
   "source": [
    "### 2.3.4 Drop baris yang tidak ada nama produknya"
   ]
  },
  {
   "cell_type": "code",
   "execution_count": 50,
   "metadata": {},
   "outputs": [],
   "source": [
    "df = df.dropna(subset=['nama_product'])"
   ]
  },
  {
   "cell_type": "code",
   "execution_count": 51,
   "metadata": {},
   "outputs": [
    {
     "name": "stdout",
     "output_type": "stream",
     "text": [
      "0\n"
     ]
    }
   ],
   "source": [
    "null_nama_product = df['nama_product'].isnull().sum()\n",
    "print(null_nama_product)"
   ]
  },
  {
   "cell_type": "markdown",
   "metadata": {},
   "source": [
    "Insight:\n",
    "1. Sudah tidak ada baris dengan nama_product null"
   ]
  },
  {
   "cell_type": "markdown",
   "metadata": {},
   "source": [
    "### 2.3.5 Perbaiki kesalahan pada kolom hamil_menyusui"
   ]
  },
  {
   "cell_type": "code",
   "execution_count": 52,
   "metadata": {},
   "outputs": [],
   "source": [
    "replacement_dict = {\n",
    "    'Bahan yang kami formulasikan sudah mendapat persetujuan standar BPOM. Namun mengingat ibu hamil terkadang memiliki alergi terhadap hal-hal tertentu & perubahan hormonal, lebih baik konsultasikan kandungan bahan dalam produk kepada dokter kandungan anda.': 'Ya',\n",
    "    'Ibu menyusui atau ibu hamil disarankan untuk berkonsultasi dulu dengan dokter jika ingin menggunakan produk ini.': 'Tidak',\n",
    "    'Harap Konsultasi terlebih dahulu': 'Tidak',\n",
    "    'Namun mengingat ibu hamil terkadang memiliki alergi terhadap hal-hal tertentu & mengalami perubahan hormonal, disarankan untuk berkonsultasi ke dokter kandungan mengenai bahan aktif dalam skincare yang digunakan.': 'Ya',\n",
    "    'Ys': 'Ya',\n",
    "    'Harap konsultasi terlebih dahulu' : 'Tidak'\n",
    "}\n",
    "\n",
    "df['hamil_menyusui'] = df['hamil_menyusui'].replace(replacement_dict)"
   ]
  },
  {
   "cell_type": "code",
   "execution_count": 53,
   "metadata": {},
   "outputs": [
    {
     "name": "stdout",
     "output_type": "stream",
     "text": [
      "['Ya' 'Tidak']\n"
     ]
    }
   ],
   "source": [
    "unique_values = df['hamil_menyusui'].unique()\n",
    "print(unique_values)"
   ]
  },
  {
   "cell_type": "markdown",
   "metadata": {},
   "source": [
    "Insight:\n",
    "1. Sudah hanya bernilai 'Ya' dan 'Tidak'"
   ]
  },
  {
   "cell_type": "markdown",
   "metadata": {},
   "source": [
    "### 2.3.6 Ubah 'Ya' menjadi 'a' dan 'Tidak' menjadi 'b' pada kolom hamil_menyusui"
   ]
  },
  {
   "cell_type": "code",
   "execution_count": 54,
   "metadata": {},
   "outputs": [],
   "source": [
    "replace = {\n",
    "    'Ya' : 'a',\n",
    "    'Tidak': 'b'\n",
    "}\n",
    "\n",
    "df['hamil_menyusui'] = df['hamil_menyusui'].replace(replace)"
   ]
  },
  {
   "cell_type": "code",
   "execution_count": 55,
   "metadata": {},
   "outputs": [
    {
     "name": "stdout",
     "output_type": "stream",
     "text": [
      "['a' 'b']\n"
     ]
    }
   ],
   "source": [
    "unique_values = df['hamil_menyusui'].unique()\n",
    "print(unique_values)"
   ]
  },
  {
   "cell_type": "markdown",
   "metadata": {},
   "source": [
    "Insight:\n",
    "1. Sudah hanya bernilai 'a' dan 'b'"
   ]
  },
  {
   "cell_type": "markdown",
   "metadata": {},
   "source": [
    "### 2.3.7 Pastikan semua nama_gambar ada di folder Photos"
   ]
  },
  {
   "cell_type": "code",
   "execution_count": 56,
   "metadata": {},
   "outputs": [
    {
     "name": "stdout",
     "output_type": "stream",
     "text": [
      "Nama gambar yang tidak ada di folder Photos:\n",
      "{'skintific_5xceramidelowphcleanser\\n', 'glad2glow_centellaallantoinsoothingmoisturizergel\\n', 'skin1004_madagascarcentellabhafoam\\n', 'azarine_hydrasoothesunscreengelspf45pa++++\\n'}\n",
      "4\n"
     ]
    }
   ],
   "source": [
    "missing_in_image_files = set(df['nama_gambar']) - set(image_files_no_ext)\n",
    "\n",
    "print(\"Nama gambar yang tidak ada di folder Photos:\")\n",
    "print(missing_in_image_files)\n",
    "print(len(missing_in_image_files))"
   ]
  },
  {
   "cell_type": "markdown",
   "metadata": {},
   "source": [
    "Insight:\n",
    "1. Terdapat kesalahan yaitu pada akhir \\n sehingga nama gambar tidak ditemukan\n",
    "\n",
    "Note:\n",
    "1. Telah dicari manual dan nama gambar ditemukan"
   ]
  },
  {
   "cell_type": "code",
   "execution_count": 57,
   "metadata": {},
   "outputs": [
    {
     "name": "stdout",
     "output_type": "stream",
     "text": [
      "<class 'pandas.core.frame.DataFrame'>\n",
      "Index: 232 entries, 0 to 301\n",
      "Data columns (total 15 columns):\n",
      " #   Column           Non-Null Count  Dtype \n",
      "---  ------           --------------  ----- \n",
      " 0   jenis            232 non-null    object\n",
      " 1   kategori         232 non-null    object\n",
      " 2   jenis_kulit      232 non-null    object\n",
      " 3   merk             232 non-null    object\n",
      " 4   nama_product     232 non-null    object\n",
      " 5   nama_gambar      232 non-null    object\n",
      " 6   key_ingredients  229 non-null    object\n",
      " 7   ingredients      232 non-null    object\n",
      " 8   deskripsi        232 non-null    object\n",
      " 9   no_BPOM          232 non-null    object\n",
      " 10  hamil_menyusui   232 non-null    object\n",
      " 11  sensitif         232 non-null    object\n",
      " 12  tujuan           232 non-null    object\n",
      " 13  kegunaan         232 non-null    object\n",
      " 14  fungsi           232 non-null    object\n",
      "dtypes: object(15)\n",
      "memory usage: 29.0+ KB\n"
     ]
    }
   ],
   "source": [
    "df.info()"
   ]
  },
  {
   "cell_type": "markdown",
   "metadata": {},
   "source": [
    "### 2.3.8 Menambahkan ekstensi file"
   ]
  },
  {
   "cell_type": "code",
   "execution_count": 58,
   "metadata": {},
   "outputs": [
    {
     "name": "stdout",
     "output_type": "stream",
     "text": [
      "0                             vivacosmetics_airmawar.jpg\n",
      "1                          whitelab_brighteningtoner.jpg\n",
      "2                  npure_marigoldclearingspetaltoner.jpg\n",
      "3        somethinc_resetgentlemicellarcleansingwater.jpg\n",
      "4                       emina_skinbuddymicellarwater.jpg\n",
      "                             ...                        \n",
      "297                   whitelab_brighteningnightcream.jpg\n",
      "298          somethinc_calmdown!skinpairr-covercream.jpg\n",
      "299    theoriginote_acneb5serumsalicylicacid+pantheno...\n",
      "300                naturmiracle_antiacnefaceoilserum.jpg\n",
      "301             biobeautylab_luxuriousfacialoilserum.jpg\n",
      "Name: nama_gambar, Length: 232, dtype: object\n"
     ]
    }
   ],
   "source": [
    "def add_extension(nama_gambar):\n",
    "    if nama_gambar in image_files_no_ext:\n",
    "        index = image_files_no_ext.index(nama_gambar)\n",
    "        return image_files[index]\n",
    "    else:\n",
    "        return None\n",
    "\n",
    "df['nama_gambar'] = df['nama_gambar'].apply(add_extension)\n",
    "\n",
    "print(df['nama_gambar'])\n"
   ]
  },
  {
   "cell_type": "markdown",
   "metadata": {},
   "source": [
    "Insight:\n",
    "1. Nama gambar telah ditambahkan ekstensi aslinya"
   ]
  },
  {
   "cell_type": "code",
   "execution_count": 59,
   "metadata": {},
   "outputs": [
    {
     "name": "stdout",
     "output_type": "stream",
     "text": [
      "Jumlah gambar tanpa ekstensi: 4\n",
      "Nama gambar tanpa ekstensi:\n",
      "['None', 'None', 'None', 'None']\n"
     ]
    }
   ],
   "source": [
    "df['nama_gambar'] = df['nama_gambar'].astype(str)\n",
    "\n",
    "def check_no_extension(file_name):\n",
    "    return '.' not in file_name\n",
    "\n",
    "df['tanpa_ekstensi'] = df['nama_gambar'].apply(check_no_extension)\n",
    "gambar_tanpa_ekstensi = df[df['tanpa_ekstensi']]\n",
    "jumlah_tanpa_ekstensi = len(gambar_tanpa_ekstensi)\n",
    "print(f\"Jumlah gambar tanpa ekstensi: {jumlah_tanpa_ekstensi}\")\n",
    "print(\"Nama gambar tanpa ekstensi:\")\n",
    "print(gambar_tanpa_ekstensi['nama_gambar'].tolist())\n"
   ]
  },
  {
   "cell_type": "markdown",
   "metadata": {},
   "source": [
    "Insight:\n",
    "1. Ada 4 gambar tanpa ekstensi, namun ketika dicek tertulis 'none' sehingga akan dilakukan cek dan perbaikan manual"
   ]
  },
  {
   "cell_type": "markdown",
   "metadata": {},
   "source": [
    "### 2.3.9 Menambahkan titik di akhir kalimat"
   ]
  },
  {
   "cell_type": "code",
   "execution_count": 60,
   "metadata": {},
   "outputs": [],
   "source": [
    "def add_period_if_missing(text):\n",
    "    if isinstance(text, str):\n",
    "        return text if text.endswith('.') else text + '.'\n",
    "    return text\n"
   ]
  },
  {
   "cell_type": "code",
   "execution_count": 61,
   "metadata": {},
   "outputs": [],
   "source": [
    "df['ingredients'] = df['ingredients'].apply(add_period_if_missing)"
   ]
  },
  {
   "cell_type": "code",
   "execution_count": 62,
   "metadata": {},
   "outputs": [],
   "source": [
    "df['deskripsi'] = df['deskripsi'].apply(add_period_if_missing)"
   ]
  },
  {
   "cell_type": "code",
   "execution_count": 63,
   "metadata": {},
   "outputs": [],
   "source": [
    "df['kegunaan'] = df['kegunaan'].apply(add_period_if_missing)"
   ]
  },
  {
   "cell_type": "markdown",
   "metadata": {},
   "source": [
    "### 2.3.10 Save CSV untuk Database"
   ]
  },
  {
   "cell_type": "code",
   "execution_count": 69,
   "metadata": {},
   "outputs": [],
   "source": [
    "df_database = df.copy()"
   ]
  },
  {
   "cell_type": "code",
   "execution_count": 70,
   "metadata": {},
   "outputs": [
    {
     "data": {
      "text/html": [
       "<div>\n",
       "<style scoped>\n",
       "    .dataframe tbody tr th:only-of-type {\n",
       "        vertical-align: middle;\n",
       "    }\n",
       "\n",
       "    .dataframe tbody tr th {\n",
       "        vertical-align: top;\n",
       "    }\n",
       "\n",
       "    .dataframe thead th {\n",
       "        text-align: right;\n",
       "    }\n",
       "</style>\n",
       "<table border=\"1\" class=\"dataframe\">\n",
       "  <thead>\n",
       "    <tr style=\"text-align: right;\">\n",
       "      <th></th>\n",
       "      <th>jenis</th>\n",
       "      <th>kategori</th>\n",
       "      <th>jenis_kulit</th>\n",
       "      <th>merk</th>\n",
       "      <th>nama_product</th>\n",
       "      <th>nama_gambar</th>\n",
       "      <th>key_ingredients</th>\n",
       "      <th>ingredients</th>\n",
       "      <th>deskripsi</th>\n",
       "      <th>no_BPOM</th>\n",
       "      <th>hamil_menyusui</th>\n",
       "      <th>sensitif</th>\n",
       "      <th>tujuan</th>\n",
       "      <th>kegunaan</th>\n",
       "      <th>fungsi</th>\n",
       "      <th>tanpa_ekstensi</th>\n",
       "    </tr>\n",
       "  </thead>\n",
       "  <tbody>\n",
       "    <tr>\n",
       "      <th>0</th>\n",
       "      <td>Cleanser</td>\n",
       "      <td>Toner</td>\n",
       "      <td>Kering</td>\n",
       "      <td>Viva Cosmetics</td>\n",
       "      <td>Air Mawar</td>\n",
       "      <td>vivacosmetics_airmawar.jpg</td>\n",
       "      <td>NaN</td>\n",
       "      <td>Aqua, Ethanol, Methylparaben, Rose Extract, Pr...</td>\n",
       "      <td>Air Mawar mengandung sari bunga mawar dan arom...</td>\n",
       "      <td>NA18121202046</td>\n",
       "      <td>a</td>\n",
       "      <td>b</td>\n",
       "      <td>a</td>\n",
       "      <td>Melembabkan kulit, Menyegarkan kulit, Anti-inf...</td>\n",
       "      <td>a,b</td>\n",
       "      <td>False</td>\n",
       "    </tr>\n",
       "    <tr>\n",
       "      <th>1</th>\n",
       "      <td>Cleanser</td>\n",
       "      <td>Toner</td>\n",
       "      <td>Kering</td>\n",
       "      <td>Whitelab</td>\n",
       "      <td>Brightening Toner</td>\n",
       "      <td>whitelab_brighteningtoner.jpg</td>\n",
       "      <td>NaN</td>\n",
       "      <td>Aqua, Ethyl Alcohol, Propylene Glycol, Glyceri...</td>\n",
       "      <td>Whitelab Brightening Toner adalah toner yang b...</td>\n",
       "      <td>NA18221205551</td>\n",
       "      <td>a</td>\n",
       "      <td>b</td>\n",
       "      <td>a</td>\n",
       "      <td>Mencerahkan kulit, Mengangkat sisa kotoran di ...</td>\n",
       "      <td>d,e</td>\n",
       "      <td>False</td>\n",
       "    </tr>\n",
       "    <tr>\n",
       "      <th>2</th>\n",
       "      <td>Cleanser</td>\n",
       "      <td>Toner</td>\n",
       "      <td>Kering</td>\n",
       "      <td>NPURE</td>\n",
       "      <td>Marigold Clearings Petal Toner</td>\n",
       "      <td>npure_marigoldclearingspetaltoner.jpg</td>\n",
       "      <td>Anti-acne: Niacinamide\\nCell-communicating ing...</td>\n",
       "      <td>Aqua, Glycerin, Lactic Acid, Tromethamine, Pro...</td>\n",
       "      <td>Toner dengan kelopak bunga Marigold asli yang ...</td>\n",
       "      <td>NA18221202239</td>\n",
       "      <td>b</td>\n",
       "      <td>b</td>\n",
       "      <td>a</td>\n",
       "      <td>Menutrisi kulit, Mencegah penuaan dini, Melind...</td>\n",
       "      <td>a,c,d</td>\n",
       "      <td>False</td>\n",
       "    </tr>\n",
       "    <tr>\n",
       "      <th>3</th>\n",
       "      <td>Cleanser</td>\n",
       "      <td>Makeup Remover</td>\n",
       "      <td>Kering</td>\n",
       "      <td>Somethinc</td>\n",
       "      <td>Reset Gentle Micellar Cleansing Water</td>\n",
       "      <td>somethinc_resetgentlemicellarcleansingwater.jpg</td>\n",
       "      <td>Anti-acne: Zinc Gluconate\\nAntioxidant: Calend...</td>\n",
       "      <td>Water, PEG-6 Caprylic/​Capric Glycerides, Prop...</td>\n",
       "      <td>Vegan micellar water dengan surfaktan non-ioni...</td>\n",
       "      <td>NA18211208373</td>\n",
       "      <td>b</td>\n",
       "      <td>b</td>\n",
       "      <td>a</td>\n",
       "      <td>Membersihkan kotoran dan minyak wajah berlebih...</td>\n",
       "      <td>g</td>\n",
       "      <td>False</td>\n",
       "    </tr>\n",
       "    <tr>\n",
       "      <th>4</th>\n",
       "      <td>Cleanser</td>\n",
       "      <td>Makeup Remover</td>\n",
       "      <td>Kering</td>\n",
       "      <td>Emina</td>\n",
       "      <td>Skin Buddy Micellar Water</td>\n",
       "      <td>emina_skinbuddymicellarwater.jpg</td>\n",
       "      <td>Antioxidant: Calendula Officinalis Flower Extr...</td>\n",
       "      <td>Aqua, Propanediol, PEG-6 Caprylic/​Capric Glyc...</td>\n",
       "      <td>Micellar water yang dapat mengangkat make up d...</td>\n",
       "      <td>NA18201203986</td>\n",
       "      <td>a</td>\n",
       "      <td>b</td>\n",
       "      <td>a</td>\n",
       "      <td>Mengangkat make up dan kotoran, menyegarkan ku...</td>\n",
       "      <td>e</td>\n",
       "      <td>False</td>\n",
       "    </tr>\n",
       "  </tbody>\n",
       "</table>\n",
       "</div>"
      ],
      "text/plain": [
       "      jenis        kategori jenis_kulit             merk  \\\n",
       "0  Cleanser           Toner      Kering  Viva Cosmetics    \n",
       "1  Cleanser           Toner      Kering         Whitelab   \n",
       "2  Cleanser           Toner      Kering            NPURE   \n",
       "3  Cleanser  Makeup Remover      Kering        Somethinc   \n",
       "4  Cleanser  Makeup Remover      Kering            Emina   \n",
       "\n",
       "                            nama_product  \\\n",
       "0                              Air Mawar   \n",
       "1                      Brightening Toner   \n",
       "2         Marigold Clearings Petal Toner   \n",
       "3  Reset Gentle Micellar Cleansing Water   \n",
       "4              Skin Buddy Micellar Water   \n",
       "\n",
       "                                       nama_gambar  \\\n",
       "0                       vivacosmetics_airmawar.jpg   \n",
       "1                    whitelab_brighteningtoner.jpg   \n",
       "2            npure_marigoldclearingspetaltoner.jpg   \n",
       "3  somethinc_resetgentlemicellarcleansingwater.jpg   \n",
       "4                 emina_skinbuddymicellarwater.jpg   \n",
       "\n",
       "                                     key_ingredients  \\\n",
       "0                                                NaN   \n",
       "1                                                NaN   \n",
       "2  Anti-acne: Niacinamide\\nCell-communicating ing...   \n",
       "3  Anti-acne: Zinc Gluconate\\nAntioxidant: Calend...   \n",
       "4  Antioxidant: Calendula Officinalis Flower Extr...   \n",
       "\n",
       "                                         ingredients  \\\n",
       "0  Aqua, Ethanol, Methylparaben, Rose Extract, Pr...   \n",
       "1  Aqua, Ethyl Alcohol, Propylene Glycol, Glyceri...   \n",
       "2  Aqua, Glycerin, Lactic Acid, Tromethamine, Pro...   \n",
       "3  Water, PEG-6 Caprylic/​Capric Glycerides, Prop...   \n",
       "4  Aqua, Propanediol, PEG-6 Caprylic/​Capric Glyc...   \n",
       "\n",
       "                                           deskripsi        no_BPOM  \\\n",
       "0  Air Mawar mengandung sari bunga mawar dan arom...  NA18121202046   \n",
       "1  Whitelab Brightening Toner adalah toner yang b...  NA18221205551   \n",
       "2  Toner dengan kelopak bunga Marigold asli yang ...  NA18221202239   \n",
       "3  Vegan micellar water dengan surfaktan non-ioni...  NA18211208373   \n",
       "4  Micellar water yang dapat mengangkat make up d...  NA18201203986   \n",
       "\n",
       "  hamil_menyusui sensitif tujuan  \\\n",
       "0              a        b      a   \n",
       "1              a        b      a   \n",
       "2              b        b      a   \n",
       "3              b        b      a   \n",
       "4              a        b      a   \n",
       "\n",
       "                                            kegunaan fungsi  tanpa_ekstensi  \n",
       "0  Melembabkan kulit, Menyegarkan kulit, Anti-inf...    a,b           False  \n",
       "1  Mencerahkan kulit, Mengangkat sisa kotoran di ...    d,e           False  \n",
       "2  Menutrisi kulit, Mencegah penuaan dini, Melind...  a,c,d           False  \n",
       "3  Membersihkan kotoran dan minyak wajah berlebih...      g           False  \n",
       "4  Mengangkat make up dan kotoran, menyegarkan ku...      e           False  "
      ]
     },
     "execution_count": 70,
     "metadata": {},
     "output_type": "execute_result"
    }
   ],
   "source": [
    "df_database.head()"
   ]
  },
  {
   "cell_type": "code",
   "execution_count": 71,
   "metadata": {},
   "outputs": [
    {
     "name": "stdout",
     "output_type": "stream",
     "text": [
      "<class 'pandas.core.frame.DataFrame'>\n",
      "Index: 232 entries, 0 to 301\n",
      "Data columns (total 11 columns):\n",
      " #   Column           Non-Null Count  Dtype \n",
      "---  ------           --------------  ----- \n",
      " 0   jenis            232 non-null    object\n",
      " 1   kategori         232 non-null    object\n",
      " 2   jenis_kulit      232 non-null    object\n",
      " 3   merk             232 non-null    object\n",
      " 4   nama_product     232 non-null    object\n",
      " 5   nama_gambar      232 non-null    object\n",
      " 6   key_ingredients  229 non-null    object\n",
      " 7   ingredients      232 non-null    object\n",
      " 8   deskripsi        232 non-null    object\n",
      " 9   no_BPOM          232 non-null    object\n",
      " 10  kegunaan         232 non-null    object\n",
      "dtypes: object(11)\n",
      "memory usage: 21.8+ KB\n"
     ]
    }
   ],
   "source": [
    "df_database = df_database.drop(columns=['hamil_menyusui', 'sensitif', 'tujuan', 'fungsi', 'tanpa_ekstensi'])\n",
    "df_database.info()\n"
   ]
  },
  {
   "cell_type": "markdown",
   "metadata": {},
   "source": [
    "Insight:\n",
    "1. Dataframe baru bernama df_database sudah hanya berisi kolom yang akan disimpan pada database\n",
    "2. Bagian key_ingredients ada 3 yang null\n",
    "\n",
    "Note:\n",
    "1. Tidak perlu mendrop key_ingredients atau menambahkan informasi untuk key_ingredients karena informasi key_ingredients yang memang terbatas dan ingredients telah disampaikan dengan lengkap pada kolom ingredients"
   ]
  },
  {
   "cell_type": "code",
   "execution_count": 74,
   "metadata": {},
   "outputs": [],
   "source": [
    "df_database.to_csv('./Clean Data/product_database.csv', index=False)"
   ]
  },
  {
   "cell_type": "markdown",
   "metadata": {},
   "source": [
    "### 2.3.11 Save CSV untuk Asesmen"
   ]
  },
  {
   "cell_type": "code",
   "execution_count": 75,
   "metadata": {},
   "outputs": [],
   "source": [
    "df_asesmen = df.copy()"
   ]
  },
  {
   "cell_type": "code",
   "execution_count": 76,
   "metadata": {},
   "outputs": [
    {
     "data": {
      "text/html": [
       "<div>\n",
       "<style scoped>\n",
       "    .dataframe tbody tr th:only-of-type {\n",
       "        vertical-align: middle;\n",
       "    }\n",
       "\n",
       "    .dataframe tbody tr th {\n",
       "        vertical-align: top;\n",
       "    }\n",
       "\n",
       "    .dataframe thead th {\n",
       "        text-align: right;\n",
       "    }\n",
       "</style>\n",
       "<table border=\"1\" class=\"dataframe\">\n",
       "  <thead>\n",
       "    <tr style=\"text-align: right;\">\n",
       "      <th></th>\n",
       "      <th>jenis</th>\n",
       "      <th>kategori</th>\n",
       "      <th>jenis_kulit</th>\n",
       "      <th>merk</th>\n",
       "      <th>nama_product</th>\n",
       "      <th>nama_gambar</th>\n",
       "      <th>key_ingredients</th>\n",
       "      <th>ingredients</th>\n",
       "      <th>deskripsi</th>\n",
       "      <th>no_BPOM</th>\n",
       "      <th>hamil_menyusui</th>\n",
       "      <th>sensitif</th>\n",
       "      <th>tujuan</th>\n",
       "      <th>kegunaan</th>\n",
       "      <th>fungsi</th>\n",
       "      <th>tanpa_ekstensi</th>\n",
       "    </tr>\n",
       "  </thead>\n",
       "  <tbody>\n",
       "    <tr>\n",
       "      <th>0</th>\n",
       "      <td>Cleanser</td>\n",
       "      <td>Toner</td>\n",
       "      <td>Kering</td>\n",
       "      <td>Viva Cosmetics</td>\n",
       "      <td>Air Mawar</td>\n",
       "      <td>vivacosmetics_airmawar.jpg</td>\n",
       "      <td>NaN</td>\n",
       "      <td>Aqua, Ethanol, Methylparaben, Rose Extract, Pr...</td>\n",
       "      <td>Air Mawar mengandung sari bunga mawar dan arom...</td>\n",
       "      <td>NA18121202046</td>\n",
       "      <td>a</td>\n",
       "      <td>b</td>\n",
       "      <td>a</td>\n",
       "      <td>Melembabkan kulit, Menyegarkan kulit, Anti-inf...</td>\n",
       "      <td>a,b</td>\n",
       "      <td>False</td>\n",
       "    </tr>\n",
       "    <tr>\n",
       "      <th>1</th>\n",
       "      <td>Cleanser</td>\n",
       "      <td>Toner</td>\n",
       "      <td>Kering</td>\n",
       "      <td>Whitelab</td>\n",
       "      <td>Brightening Toner</td>\n",
       "      <td>whitelab_brighteningtoner.jpg</td>\n",
       "      <td>NaN</td>\n",
       "      <td>Aqua, Ethyl Alcohol, Propylene Glycol, Glyceri...</td>\n",
       "      <td>Whitelab Brightening Toner adalah toner yang b...</td>\n",
       "      <td>NA18221205551</td>\n",
       "      <td>a</td>\n",
       "      <td>b</td>\n",
       "      <td>a</td>\n",
       "      <td>Mencerahkan kulit, Mengangkat sisa kotoran di ...</td>\n",
       "      <td>d,e</td>\n",
       "      <td>False</td>\n",
       "    </tr>\n",
       "    <tr>\n",
       "      <th>2</th>\n",
       "      <td>Cleanser</td>\n",
       "      <td>Toner</td>\n",
       "      <td>Kering</td>\n",
       "      <td>NPURE</td>\n",
       "      <td>Marigold Clearings Petal Toner</td>\n",
       "      <td>npure_marigoldclearingspetaltoner.jpg</td>\n",
       "      <td>Anti-acne: Niacinamide\\nCell-communicating ing...</td>\n",
       "      <td>Aqua, Glycerin, Lactic Acid, Tromethamine, Pro...</td>\n",
       "      <td>Toner dengan kelopak bunga Marigold asli yang ...</td>\n",
       "      <td>NA18221202239</td>\n",
       "      <td>b</td>\n",
       "      <td>b</td>\n",
       "      <td>a</td>\n",
       "      <td>Menutrisi kulit, Mencegah penuaan dini, Melind...</td>\n",
       "      <td>a,c,d</td>\n",
       "      <td>False</td>\n",
       "    </tr>\n",
       "    <tr>\n",
       "      <th>3</th>\n",
       "      <td>Cleanser</td>\n",
       "      <td>Makeup Remover</td>\n",
       "      <td>Kering</td>\n",
       "      <td>Somethinc</td>\n",
       "      <td>Reset Gentle Micellar Cleansing Water</td>\n",
       "      <td>somethinc_resetgentlemicellarcleansingwater.jpg</td>\n",
       "      <td>Anti-acne: Zinc Gluconate\\nAntioxidant: Calend...</td>\n",
       "      <td>Water, PEG-6 Caprylic/​Capric Glycerides, Prop...</td>\n",
       "      <td>Vegan micellar water dengan surfaktan non-ioni...</td>\n",
       "      <td>NA18211208373</td>\n",
       "      <td>b</td>\n",
       "      <td>b</td>\n",
       "      <td>a</td>\n",
       "      <td>Membersihkan kotoran dan minyak wajah berlebih...</td>\n",
       "      <td>g</td>\n",
       "      <td>False</td>\n",
       "    </tr>\n",
       "    <tr>\n",
       "      <th>4</th>\n",
       "      <td>Cleanser</td>\n",
       "      <td>Makeup Remover</td>\n",
       "      <td>Kering</td>\n",
       "      <td>Emina</td>\n",
       "      <td>Skin Buddy Micellar Water</td>\n",
       "      <td>emina_skinbuddymicellarwater.jpg</td>\n",
       "      <td>Antioxidant: Calendula Officinalis Flower Extr...</td>\n",
       "      <td>Aqua, Propanediol, PEG-6 Caprylic/​Capric Glyc...</td>\n",
       "      <td>Micellar water yang dapat mengangkat make up d...</td>\n",
       "      <td>NA18201203986</td>\n",
       "      <td>a</td>\n",
       "      <td>b</td>\n",
       "      <td>a</td>\n",
       "      <td>Mengangkat make up dan kotoran, menyegarkan ku...</td>\n",
       "      <td>e</td>\n",
       "      <td>False</td>\n",
       "    </tr>\n",
       "  </tbody>\n",
       "</table>\n",
       "</div>"
      ],
      "text/plain": [
       "      jenis        kategori jenis_kulit             merk  \\\n",
       "0  Cleanser           Toner      Kering  Viva Cosmetics    \n",
       "1  Cleanser           Toner      Kering         Whitelab   \n",
       "2  Cleanser           Toner      Kering            NPURE   \n",
       "3  Cleanser  Makeup Remover      Kering        Somethinc   \n",
       "4  Cleanser  Makeup Remover      Kering            Emina   \n",
       "\n",
       "                            nama_product  \\\n",
       "0                              Air Mawar   \n",
       "1                      Brightening Toner   \n",
       "2         Marigold Clearings Petal Toner   \n",
       "3  Reset Gentle Micellar Cleansing Water   \n",
       "4              Skin Buddy Micellar Water   \n",
       "\n",
       "                                       nama_gambar  \\\n",
       "0                       vivacosmetics_airmawar.jpg   \n",
       "1                    whitelab_brighteningtoner.jpg   \n",
       "2            npure_marigoldclearingspetaltoner.jpg   \n",
       "3  somethinc_resetgentlemicellarcleansingwater.jpg   \n",
       "4                 emina_skinbuddymicellarwater.jpg   \n",
       "\n",
       "                                     key_ingredients  \\\n",
       "0                                                NaN   \n",
       "1                                                NaN   \n",
       "2  Anti-acne: Niacinamide\\nCell-communicating ing...   \n",
       "3  Anti-acne: Zinc Gluconate\\nAntioxidant: Calend...   \n",
       "4  Antioxidant: Calendula Officinalis Flower Extr...   \n",
       "\n",
       "                                         ingredients  \\\n",
       "0  Aqua, Ethanol, Methylparaben, Rose Extract, Pr...   \n",
       "1  Aqua, Ethyl Alcohol, Propylene Glycol, Glyceri...   \n",
       "2  Aqua, Glycerin, Lactic Acid, Tromethamine, Pro...   \n",
       "3  Water, PEG-6 Caprylic/​Capric Glycerides, Prop...   \n",
       "4  Aqua, Propanediol, PEG-6 Caprylic/​Capric Glyc...   \n",
       "\n",
       "                                           deskripsi        no_BPOM  \\\n",
       "0  Air Mawar mengandung sari bunga mawar dan arom...  NA18121202046   \n",
       "1  Whitelab Brightening Toner adalah toner yang b...  NA18221205551   \n",
       "2  Toner dengan kelopak bunga Marigold asli yang ...  NA18221202239   \n",
       "3  Vegan micellar water dengan surfaktan non-ioni...  NA18211208373   \n",
       "4  Micellar water yang dapat mengangkat make up d...  NA18201203986   \n",
       "\n",
       "  hamil_menyusui sensitif tujuan  \\\n",
       "0              a        b      a   \n",
       "1              a        b      a   \n",
       "2              b        b      a   \n",
       "3              b        b      a   \n",
       "4              a        b      a   \n",
       "\n",
       "                                            kegunaan fungsi  tanpa_ekstensi  \n",
       "0  Melembabkan kulit, Menyegarkan kulit, Anti-inf...    a,b           False  \n",
       "1  Mencerahkan kulit, Mengangkat sisa kotoran di ...    d,e           False  \n",
       "2  Menutrisi kulit, Mencegah penuaan dini, Melind...  a,c,d           False  \n",
       "3  Membersihkan kotoran dan minyak wajah berlebih...      g           False  \n",
       "4  Mengangkat make up dan kotoran, menyegarkan ku...      e           False  "
      ]
     },
     "execution_count": 76,
     "metadata": {},
     "output_type": "execute_result"
    }
   ],
   "source": [
    "df_asesmen.head()"
   ]
  },
  {
   "cell_type": "code",
   "execution_count": 79,
   "metadata": {},
   "outputs": [
    {
     "name": "stdout",
     "output_type": "stream",
     "text": [
      "<class 'pandas.core.frame.DataFrame'>\n",
      "Index: 232 entries, 0 to 301\n",
      "Data columns (total 10 columns):\n",
      " #   Column          Non-Null Count  Dtype \n",
      "---  ------          --------------  ----- \n",
      " 0   jenis           232 non-null    object\n",
      " 1   kategori        232 non-null    object\n",
      " 2   jenis_kulit     232 non-null    object\n",
      " 3   merk            232 non-null    object\n",
      " 4   nama_product    232 non-null    object\n",
      " 5   ingredients     232 non-null    object\n",
      " 6   hamil_menyusui  232 non-null    object\n",
      " 7   sensitif        232 non-null    object\n",
      " 8   tujuan          232 non-null    object\n",
      " 9   fungsi          232 non-null    object\n",
      "dtypes: object(10)\n",
      "memory usage: 19.9+ KB\n"
     ]
    }
   ],
   "source": [
    "df_asesmen = df_asesmen.drop(columns=['nama_gambar', 'key_ingredients', 'deskripsi', 'no_BPOM', 'kegunaan', 'tanpa_ekstensi'])\n",
    "df_asesmen.info()"
   ]
  },
  {
   "cell_type": "markdown",
   "metadata": {},
   "source": [
    "Insight:\n",
    "1. Dataframe baru bernama df_asesmen sudah hanya berisi kolom yang akan digunakan untuk asesmen\n",
    "2. Tidak ada yang null, semua berjumlah sama"
   ]
  },
  {
   "cell_type": "code",
   "execution_count": 81,
   "metadata": {},
   "outputs": [],
   "source": [
    "df_asesmen.to_csv('./Clean Data/product_asesmen.csv', index=False)"
   ]
  }
 ],
 "metadata": {
  "kernelspec": {
   "display_name": "Python 3",
   "language": "python",
   "name": "python3"
  },
  "language_info": {
   "codemirror_mode": {
    "name": "ipython",
    "version": 3
   },
   "file_extension": ".py",
   "mimetype": "text/x-python",
   "name": "python",
   "nbconvert_exporter": "python",
   "pygments_lexer": "ipython3",
   "version": "3.11.4"
  }
 },
 "nbformat": 4,
 "nbformat_minor": 2
}
