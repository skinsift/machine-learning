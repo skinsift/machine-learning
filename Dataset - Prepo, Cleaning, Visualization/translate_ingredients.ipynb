{
 "cells": [
  {
   "cell_type": "code",
   "execution_count": 1,
   "metadata": {},
   "outputs": [
    {
     "name": "stdout",
     "output_type": "stream",
     "text": [
      "Note: you may need to restart the kernel to use updated packages.\n"
     ]
    },
    {
     "name": "stderr",
     "output_type": "stream",
     "text": [
      "\n",
      "[notice] A new release of pip is available: 23.1.2 -> 24.3.1\n",
      "[notice] To update, run: python.exe -m pip install --upgrade pip\n"
     ]
    },
    {
     "name": "stdout",
     "output_type": "stream",
     "text": [
      "Requirement already satisfied: googletrans==4.0.0-rc1 in c:\\users\\putri\\appdata\\local\\programs\\python\\python311\\lib\\site-packages (4.0.0rc1)\n",
      "Requirement already satisfied: httpx==0.13.3 in c:\\users\\putri\\appdata\\local\\programs\\python\\python311\\lib\\site-packages (from googletrans==4.0.0-rc1) (0.13.3)\n",
      "Requirement already satisfied: certifi in c:\\users\\putri\\appdata\\local\\programs\\python\\python311\\lib\\site-packages (from httpx==0.13.3->googletrans==4.0.0-rc1) (2024.8.30)\n",
      "Requirement already satisfied: hstspreload in c:\\users\\putri\\appdata\\local\\programs\\python\\python311\\lib\\site-packages (from httpx==0.13.3->googletrans==4.0.0-rc1) (2024.12.1)\n",
      "Requirement already satisfied: sniffio in c:\\users\\putri\\appdata\\local\\programs\\python\\python311\\lib\\site-packages (from httpx==0.13.3->googletrans==4.0.0-rc1) (1.3.1)\n",
      "Requirement already satisfied: chardet==3.* in c:\\users\\putri\\appdata\\local\\programs\\python\\python311\\lib\\site-packages (from httpx==0.13.3->googletrans==4.0.0-rc1) (3.0.4)\n",
      "Requirement already satisfied: idna==2.* in c:\\users\\putri\\appdata\\local\\programs\\python\\python311\\lib\\site-packages (from httpx==0.13.3->googletrans==4.0.0-rc1) (2.10)\n",
      "Requirement already satisfied: rfc3986<2,>=1.3 in c:\\users\\putri\\appdata\\local\\programs\\python\\python311\\lib\\site-packages (from httpx==0.13.3->googletrans==4.0.0-rc1) (1.5.0)\n",
      "Requirement already satisfied: httpcore==0.9.* in c:\\users\\putri\\appdata\\local\\programs\\python\\python311\\lib\\site-packages (from httpx==0.13.3->googletrans==4.0.0-rc1) (0.9.1)\n",
      "Requirement already satisfied: h11<0.10,>=0.8 in c:\\users\\putri\\appdata\\local\\programs\\python\\python311\\lib\\site-packages (from httpcore==0.9.*->httpx==0.13.3->googletrans==4.0.0-rc1) (0.9.0)\n",
      "Requirement already satisfied: h2==3.* in c:\\users\\putri\\appdata\\local\\programs\\python\\python311\\lib\\site-packages (from httpcore==0.9.*->httpx==0.13.3->googletrans==4.0.0-rc1) (3.2.0)\n",
      "Requirement already satisfied: hyperframe<6,>=5.2.0 in c:\\users\\putri\\appdata\\local\\programs\\python\\python311\\lib\\site-packages (from h2==3.*->httpcore==0.9.*->httpx==0.13.3->googletrans==4.0.0-rc1) (5.2.0)\n",
      "Requirement already satisfied: hpack<4,>=3.0 in c:\\users\\putri\\appdata\\local\\programs\\python\\python311\\lib\\site-packages (from h2==3.*->httpcore==0.9.*->httpx==0.13.3->googletrans==4.0.0-rc1) (3.0.0)\n"
     ]
    }
   ],
   "source": [
    "%pip install googletrans==4.0.0-rc1"
   ]
  },
  {
   "cell_type": "code",
   "execution_count": 2,
   "metadata": {},
   "outputs": [
    {
     "name": "stdout",
     "output_type": "stream",
     "text": [
      "Requirement already satisfied: deep-translator in c:\\users\\putri\\appdata\\local\\programs\\python\\python311\\lib\\site-packages (1.11.4)\n",
      "Requirement already satisfied: beautifulsoup4<5.0.0,>=4.9.1 in c:\\users\\putri\\appdata\\local\\programs\\python\\python311\\lib\\site-packages (from deep-translator) (4.12.3)\n",
      "Requirement already satisfied: requests<3.0.0,>=2.23.0 in c:\\users\\putri\\appdata\\local\\programs\\python\\python311\\lib\\site-packages (from deep-translator) (2.32.3)\n",
      "Requirement already satisfied: soupsieve>1.2 in c:\\users\\putri\\appdata\\local\\programs\\python\\python311\\lib\\site-packages (from beautifulsoup4<5.0.0,>=4.9.1->deep-translator) (2.6)\n",
      "Requirement already satisfied: charset-normalizer<4,>=2 in c:\\users\\putri\\appdata\\local\\programs\\python\\python311\\lib\\site-packages (from requests<3.0.0,>=2.23.0->deep-translator) (3.4.0)\n",
      "Requirement already satisfied: idna<4,>=2.5 in c:\\users\\putri\\appdata\\local\\programs\\python\\python311\\lib\\site-packages (from requests<3.0.0,>=2.23.0->deep-translator) (2.10)\n",
      "Requirement already satisfied: urllib3<3,>=1.21.1 in c:\\users\\putri\\appdata\\local\\programs\\python\\python311\\lib\\site-packages (from requests<3.0.0,>=2.23.0->deep-translator) (2.2.3)\n",
      "Requirement already satisfied: certifi>=2017.4.17 in c:\\users\\putri\\appdata\\local\\programs\\python\\python311\\lib\\site-packages (from requests<3.0.0,>=2.23.0->deep-translator) (2024.8.30)\n",
      "Note: you may need to restart the kernel to use updated packages.\n"
     ]
    },
    {
     "name": "stderr",
     "output_type": "stream",
     "text": [
      "\n",
      "[notice] A new release of pip is available: 23.1.2 -> 24.3.1\n",
      "[notice] To update, run: python.exe -m pip install --upgrade pip\n"
     ]
    }
   ],
   "source": [
    "%pip install deep-translator"
   ]
  },
  {
   "cell_type": "code",
   "execution_count": 3,
   "metadata": {},
   "outputs": [],
   "source": [
    "import pandas as pd\n",
    "from deep_translator import GoogleTranslator"
   ]
  },
  {
   "cell_type": "code",
   "execution_count": 4,
   "metadata": {},
   "outputs": [
    {
     "data": {
      "text/html": [
       "<div>\n",
       "<style scoped>\n",
       "    .dataframe tbody tr th:only-of-type {\n",
       "        vertical-align: middle;\n",
       "    }\n",
       "\n",
       "    .dataframe tbody tr th {\n",
       "        vertical-align: top;\n",
       "    }\n",
       "\n",
       "    .dataframe thead th {\n",
       "        text-align: right;\n",
       "    }\n",
       "</style>\n",
       "<table border=\"1\" class=\"dataframe\">\n",
       "  <thead>\n",
       "    <tr style=\"text-align: right;\">\n",
       "      <th></th>\n",
       "      <th>nama</th>\n",
       "      <th>rating</th>\n",
       "      <th>benefit</th>\n",
       "      <th>kategori</th>\n",
       "      <th>key_points</th>\n",
       "      <th>deskripsi</th>\n",
       "    </tr>\n",
       "  </thead>\n",
       "  <tbody>\n",
       "    <tr>\n",
       "      <th>0</th>\n",
       "      <td>3-O Ethyl Ascorbic Acid</td>\n",
       "      <td>Best</td>\n",
       "      <td>Anti-Aging, Evens Skin Tone, Dark Spot Fading</td>\n",
       "      <td>Anti-Aging, Evens Skin Tone, Dark Spot Fading,...</td>\n",
       "      <td>A more stable derivative of pure vitamin C | C...</td>\n",
       "      <td>3-O ethyl ascorbic acid is a stable, water- an...</td>\n",
       "    </tr>\n",
       "    <tr>\n",
       "      <th>1</th>\n",
       "      <td>Acai</td>\n",
       "      <td>Best</td>\n",
       "      <td>Anti-Aging, Soothing</td>\n",
       "      <td>Anti-Aging, Soothing, Antioxidant, Plant Extracts</td>\n",
       "      <td>Potent source of skin-beneficial antioxidants ...</td>\n",
       "      <td>Acai (pronounced “ah-sigh-ee”) is a small berr...</td>\n",
       "    </tr>\n",
       "    <tr>\n",
       "      <th>2</th>\n",
       "      <td>Acerola Fruit Extract</td>\n",
       "      <td>Best</td>\n",
       "      <td>Anti-Aging</td>\n",
       "      <td>Anti-Aging, Antioxidant, Plant Extracts</td>\n",
       "      <td>A fruit extract also known as Malpighia emargi...</td>\n",
       "      <td>Acerola fruit extract (also known as _Malpighi...</td>\n",
       "    </tr>\n",
       "    <tr>\n",
       "      <th>3</th>\n",
       "      <td>Acetyl Carnitine HCL</td>\n",
       "      <td>Best</td>\n",
       "      <td>Hydration</td>\n",
       "      <td>Hydration, Antioxidant</td>\n",
       "      <td>NaN</td>\n",
       "      <td>NaN</td>\n",
       "    </tr>\n",
       "    <tr>\n",
       "      <th>4</th>\n",
       "      <td>Acetyl Dipeptide-1 Cetyl Ester</td>\n",
       "      <td>Best</td>\n",
       "      <td>Anti-Aging</td>\n",
       "      <td>Anti-Aging, Peptides</td>\n",
       "      <td>Lab-made anti-aging peptide that promotes firm...</td>\n",
       "      <td>Acetyl dipeptide-1 cetyl ester is a lab-engine...</td>\n",
       "    </tr>\n",
       "  </tbody>\n",
       "</table>\n",
       "</div>"
      ],
      "text/plain": [
       "                             nama rating  \\\n",
       "0         3-O Ethyl Ascorbic Acid   Best   \n",
       "1                            Acai   Best   \n",
       "2           Acerola Fruit Extract   Best   \n",
       "3            Acetyl Carnitine HCL   Best   \n",
       "4  Acetyl Dipeptide-1 Cetyl Ester   Best   \n",
       "\n",
       "                                         benefit  \\\n",
       "0  Anti-Aging, Evens Skin Tone, Dark Spot Fading   \n",
       "1                           Anti-Aging, Soothing   \n",
       "2                                     Anti-Aging   \n",
       "3                                      Hydration   \n",
       "4                                     Anti-Aging   \n",
       "\n",
       "                                            kategori  \\\n",
       "0  Anti-Aging, Evens Skin Tone, Dark Spot Fading,...   \n",
       "1  Anti-Aging, Soothing, Antioxidant, Plant Extracts   \n",
       "2            Anti-Aging, Antioxidant, Plant Extracts   \n",
       "3                             Hydration, Antioxidant   \n",
       "4                               Anti-Aging, Peptides   \n",
       "\n",
       "                                          key_points  \\\n",
       "0  A more stable derivative of pure vitamin C | C...   \n",
       "1  Potent source of skin-beneficial antioxidants ...   \n",
       "2  A fruit extract also known as Malpighia emargi...   \n",
       "3                                                NaN   \n",
       "4  Lab-made anti-aging peptide that promotes firm...   \n",
       "\n",
       "                                           deskripsi  \n",
       "0  3-O ethyl ascorbic acid is a stable, water- an...  \n",
       "1  Acai (pronounced “ah-sigh-ee”) is a small berr...  \n",
       "2  Acerola fruit extract (also known as _Malpighi...  \n",
       "3                                                NaN  \n",
       "4  Acetyl dipeptide-1 cetyl ester is a lab-engine...  "
      ]
     },
     "execution_count": 4,
     "metadata": {},
     "output_type": "execute_result"
    }
   ],
   "source": [
    "df = pd.read_csv('./Raw Data/ingredients/ingredients_dataset.csv')\n",
    "df.head()"
   ]
  },
  {
   "cell_type": "code",
   "execution_count": 5,
   "metadata": {},
   "outputs": [
    {
     "name": "stdout",
     "output_type": "stream",
     "text": [
      "                                               deskripsi  \\\n",
      "0      3-O ethyl ascorbic acid is a stable, water- an...   \n",
      "1      Acai (pronounced “ah-sigh-ee”) is a small berr...   \n",
      "2      Acerola fruit extract (also known as _Malpighi...   \n",
      "3                                                    NaN   \n",
      "4      Acetyl dipeptide-1 cetyl ester is a lab-engine...   \n",
      "...                                                  ...   \n",
      "26038  Functions: Skin Conditioning. We have not yet ...   \n",
      "26039  Functions: Antioxidant. We have not yet rated ...   \n",
      "26040  Functions: Humectant. We have not yet rated th...   \n",
      "26041  Functions: Humectant, Skin Conditioning. We ha...   \n",
      "26042  Functions: Humectant, Skin Conditioning. We ha...   \n",
      "\n",
      "                                           deskripsi_idn  \n",
      "0      Asam askorbat etil 3-O adalah turunan vitamin ...  \n",
      "1      Acai (diucapkan “ah-sigh-ee”) adalah buah beri...  \n",
      "2      Ekstrak buah Acerola (juga dikenal sebagai _Ma...  \n",
      "3                                                    NaN  \n",
      "4      Asetil dipeptida-1 cetil ester adalah peptida ...  \n",
      "...                                                  ...  \n",
      "26038  Fungsi: Merawat Kulit. Kami belum menilai baha...  \n",
      "26039  Fungsi: Antioksidan. Kami belum menilai bahan ...  \n",
      "26040  Fungsi: Humektan. Kami belum menilai bahan ini...  \n",
      "26041  Fungsi: Humektan, Pengkondisi Kulit. Kami belu...  \n",
      "26042  Fungsi: Humektan, Pengkondisi Kulit. Kami belu...  \n",
      "\n",
      "[26043 rows x 2 columns]\n"
     ]
    }
   ],
   "source": [
    "translator = GoogleTranslator(source='en', target='id')\n",
    "\n",
    "df['deskripsi_idn'] = df['deskripsi'].apply(\n",
    "    lambda x: translator.translate(x) if pd.notnull(x) else x\n",
    ")\n",
    "print(df[['deskripsi', 'deskripsi_idn']])\n"
   ]
  },
  {
   "cell_type": "code",
   "execution_count": 6,
   "metadata": {},
   "outputs": [
    {
     "name": "stdout",
     "output_type": "stream",
     "text": [
      "                                             benefit  \\\n",
      "0      Anti-Aging, Evens Skin Tone, Dark Spot Fading   \n",
      "1                               Anti-Aging, Soothing   \n",
      "2                                         Anti-Aging   \n",
      "3                                          Hydration   \n",
      "4                                         Anti-Aging   \n",
      "...                                              ...   \n",
      "26038                                            NaN   \n",
      "26039                                            NaN   \n",
      "26040                                            NaN   \n",
      "26041                                            NaN   \n",
      "26042                                            NaN   \n",
      "\n",
      "                                             benefit_idn  \n",
      "0      Anti Penuaan, Meratakan Warna Kulit, Memudarka...  \n",
      "1                              Anti Penuaan, Menenangkan  \n",
      "2                                           Anti Penuaan  \n",
      "3                                                Hidrasi  \n",
      "4                                           Anti Penuaan  \n",
      "...                                                  ...  \n",
      "26038                                                NaN  \n",
      "26039                                                NaN  \n",
      "26040                                                NaN  \n",
      "26041                                                NaN  \n",
      "26042                                                NaN  \n",
      "\n",
      "[26043 rows x 2 columns]\n"
     ]
    }
   ],
   "source": [
    "translator = GoogleTranslator(source='en', target='id')\n",
    "\n",
    "df['benefit_idn'] = df['benefit'].apply(\n",
    "    lambda x: translator.translate(x) if pd.notnull(x) else x\n",
    ")\n",
    "\n",
    "print(df[['benefit', 'benefit_idn']])\n"
   ]
  },
  {
   "cell_type": "code",
   "execution_count": 7,
   "metadata": {},
   "outputs": [
    {
     "name": "stdout",
     "output_type": "stream",
     "text": [
      "                                                kategori  \\\n",
      "0      Anti-Aging, Evens Skin Tone, Dark Spot Fading,...   \n",
      "1      Anti-Aging, Soothing, Antioxidant, Plant Extracts   \n",
      "2                Anti-Aging, Antioxidant, Plant Extracts   \n",
      "3                                 Hydration, Antioxidant   \n",
      "4                                   Anti-Aging, Peptides   \n",
      "...                                                  ...   \n",
      "26038                                                NaN   \n",
      "26039                                                NaN   \n",
      "26040                                                NaN   \n",
      "26041                                                NaN   \n",
      "26042                                                NaN   \n",
      "\n",
      "                                            kategori_idn  \n",
      "0      Anti Penuaan, Meratakan Warna Kulit, Memudarka...  \n",
      "1      Anti Penuaan, Menenangkan, Antioksidan, Ekstra...  \n",
      "2            Anti Penuaan, Antioksidan, Ekstrak Tumbuhan  \n",
      "3                                   Hidrasi, Antioksidan  \n",
      "4                                  Anti Penuaan, Peptida  \n",
      "...                                                  ...  \n",
      "26038                                                NaN  \n",
      "26039                                                NaN  \n",
      "26040                                                NaN  \n",
      "26041                                                NaN  \n",
      "26042                                                NaN  \n",
      "\n",
      "[26043 rows x 2 columns]\n"
     ]
    }
   ],
   "source": [
    "translator = GoogleTranslator(source='en', target='id')\n",
    "\n",
    "df['kategori_idn'] = df['kategori'].apply(\n",
    "    lambda x: translator.translate(x) if pd.notnull(x) else x\n",
    ")\n",
    "\n",
    "print(df[['kategori', 'kategori_idn']])\n"
   ]
  },
  {
   "cell_type": "code",
   "execution_count": 9,
   "metadata": {},
   "outputs": [
    {
     "name": "stdout",
     "output_type": "stream",
     "text": [
      "                                          key_points_idn  \\\n",
      "0      Turunan vitamin C murni yang lebih stabil | Ma...   \n",
      "1      Sumber antioksidan yang ampuh untuk kulit | Me...   \n",
      "2      Ekstrak buah yang juga dikenal sebagai Malpigh...   \n",
      "3                                                    NaN   \n",
      "4      Peptida anti-penuaan buatan laboratorium yang ...   \n",
      "...                                                  ...   \n",
      "26038                                                NaN   \n",
      "26039                                                NaN   \n",
      "26040                                                NaN   \n",
      "26041                                                NaN   \n",
      "26042                                                NaN   \n",
      "\n",
      "                                              key_points  \n",
      "0      A more stable derivative of pure vitamin C | C...  \n",
      "1      Potent source of skin-beneficial antioxidants ...  \n",
      "2      A fruit extract also known as Malpighia emargi...  \n",
      "3                                                    NaN  \n",
      "4      Lab-made anti-aging peptide that promotes firm...  \n",
      "...                                                  ...  \n",
      "26038                                                NaN  \n",
      "26039                                                NaN  \n",
      "26040                                                NaN  \n",
      "26041                                                NaN  \n",
      "26042                                                NaN  \n",
      "\n",
      "[26043 rows x 2 columns]\n"
     ]
    }
   ],
   "source": [
    "translator = GoogleTranslator(source='en', target='id')\n",
    "\n",
    "df['key_points_idn'] = df['key_points'].apply(\n",
    "    lambda x: translator.translate(x) if pd.notnull(x) else x\n",
    ")\n",
    "\n",
    "print(df[['key_points_idn', 'key_points']])\n"
   ]
  },
  {
   "cell_type": "code",
   "execution_count": 10,
   "metadata": {},
   "outputs": [],
   "source": [
    "df.to_csv('./Clean Data/ingredients_idn.csv', index=False)"
   ]
  }
 ],
 "metadata": {
  "kernelspec": {
   "display_name": "Python 3",
   "language": "python",
   "name": "python3"
  },
  "language_info": {
   "codemirror_mode": {
    "name": "ipython",
    "version": 3
   },
   "file_extension": ".py",
   "mimetype": "text/x-python",
   "name": "python",
   "nbconvert_exporter": "python",
   "pygments_lexer": "ipython3",
   "version": "3.11.4"
  }
 },
 "nbformat": 4,
 "nbformat_minor": 2
}
